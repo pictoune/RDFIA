{
 "cells": [
  {
   "cell_type": "markdown",
   "metadata": {
    "id": "dTYNtidek9jg"
   },
   "source": [
    "# 4-a: Bayesian Linear Regression\n",
    "\n",
    "During this session, we will work with Bayesian Linear Regression models with varying basis functions (linear, polynomial and Gaussian). Datasets used are 1D toy regression samples ranging from linear datasets to more complex non-linear datasets such as increasing sinusoidal curves.\n",
    "\n",
    "**Goal**: Take hand on simple Bayesian models, understand how it works, gain finer insights on predictive distribution.\n",
    "\n"
   ]
  },
  {
   "cell_type": "code",
   "execution_count": null,
   "metadata": {
    "id": "4Ohtb0AAk9jj"
   },
   "outputs": [],
   "source": [
    "import numpy as np\n",
    "import matplotlib.pyplot as plt\n",
    "%matplotlib inline"
   ]
  },
  {
   "cell_type": "code",
   "execution_count": null,
   "metadata": {
    "id": "gN1nyLy7k9jk"
   },
   "outputs": [],
   "source": [
    "# Useful function: plot results\n",
    "def plot_results(\n",
    "    X_train,\n",
    "    y_train,\n",
    "    X_test,\n",
    "    y_test,\n",
    "    y_pred,\n",
    "    std_pred,\n",
    "    xmin=-2,\n",
    "    xmax=2,\n",
    "    ymin=-2,\n",
    "    ymax=1,\n",
    "    stdmin=0.30,\n",
    "    stdmax=0.45,\n",
    "):\n",
    "    \"\"\"Given a dataset and predictions on test set, this function draw 2 subplots:\n",
    "    - left plot compares train set, ground-truth (test set) and predictions\n",
    "    - right plot represents the predictive variance over input range\n",
    "\n",
    "    Args:\n",
    "      X_train: (array) train inputs, sized [N,]\n",
    "      y_train: (array) train labels, sized [N, ]\n",
    "      X_test: (array) test inputs, sized [N,]\n",
    "      y_test: (array) test labels, sized [N, ]\n",
    "      y_pred: (array) mean prediction, sized [N, ]\n",
    "      std_pred: (array) std prediction, sized [N, ]\n",
    "      xmin: (float) min value for x-axis on left and right plot\n",
    "      xmax: (float) max value for x-axis on left and right plot\n",
    "      ymin: (float) min value for y-axis on left plot\n",
    "      ymax: (float) max value for y-axis on left plot\n",
    "      stdmin: (float) min value for y-axis on right plot\n",
    "      stdmax: (float) max value for y-axis on right plot\n",
    "\n",
    "    Returns:\n",
    "      None\n",
    "    \"\"\"\n",
    "    plt.figure(figsize=(15, 5))\n",
    "    plt.subplot(121)\n",
    "    plt.xlim(xmin=xmin, xmax=xmax)\n",
    "    plt.ylim(ymin=ymin, ymax=ymax)\n",
    "    plt.plot(X_test, y_test, color=\"green\", linewidth=2, label=\"Ground Truth\")\n",
    "    plt.plot(X_train, y_train, \"o\", color=\"blue\", label=\"Training points\")\n",
    "    plt.plot(X_test, y_pred, color=\"red\", label=\"BLR Poly\")\n",
    "    plt.fill_between(\n",
    "        X_test,\n",
    "        y_pred - std_pred,\n",
    "        y_pred + std_pred,\n",
    "        color=\"indianred\",\n",
    "        label=\"1 std. int.\",\n",
    "    )\n",
    "    plt.fill_between(\n",
    "        X_test, y_pred - std_pred * 2, y_pred - std_pred, color=\"lightcoral\"\n",
    "    )\n",
    "    plt.fill_between(\n",
    "        X_test,\n",
    "        y_pred + std_pred * 1,\n",
    "        y_pred + std_pred * 2,\n",
    "        color=\"lightcoral\",\n",
    "        label=\"2 std. int.\",\n",
    "    )\n",
    "    plt.fill_between(\n",
    "        X_test, y_pred - std_pred * 3, y_pred - std_pred * 2, color=\"mistyrose\"\n",
    "    )\n",
    "    plt.fill_between(\n",
    "        X_test,\n",
    "        y_pred + std_pred * 2,\n",
    "        y_pred + std_pred * 3,\n",
    "        color=\"mistyrose\",\n",
    "        label=\"3 std. int.\",\n",
    "    )\n",
    "    plt.legend()\n",
    "\n",
    "    plt.subplot(122)\n",
    "    plt.title(\"Predictive variance along x-axis\")\n",
    "    plt.xlim(xmin=xmin, xmax=xmax)\n",
    "    plt.ylim(ymin=stdmin, ymax=stdmax)\n",
    "    plt.plot(X_test, std_pred**2, color=\"red\", label=\"\\u03C3² {}\".format(\"Pred\"))\n",
    "\n",
    "    # Get training domain\n",
    "    training_domain = []\n",
    "    current_min = sorted(X_train)[0]\n",
    "    for i, elem in enumerate(sorted(X_train)):\n",
    "        if elem - sorted(X_train)[i - 1] > 1:\n",
    "            training_domain.append([current_min, sorted(X_train)[i - 1]])\n",
    "            current_min = elem\n",
    "    training_domain.append([current_min, sorted(X_train)[-1]])\n",
    "\n",
    "    # Plot domain\n",
    "    for j, (min_domain, max_domain) in enumerate(training_domain):\n",
    "        plt.axvspan(\n",
    "            min_domain,\n",
    "            max_domain,\n",
    "            alpha=0.5,\n",
    "            color=\"gray\",\n",
    "            label=\"Training area\" if j == 0 else \"\",\n",
    "        )\n",
    "    plt.axvline(X_train.mean(), linestyle=\"--\", label=\"Training barycentre\")\n",
    "\n",
    "    plt.legend()\n",
    "    plt.show()"
   ]
  },
  {
   "cell_type": "markdown",
   "metadata": {
    "id": "YV2Nmxxjk9jl"
   },
   "source": [
    "## Part I: Linear Basis function model\n",
    "\n",
    "We start with a linear dataset where we will analyze the behavior of linear basis functions in the framework of Bayesian Linear Regression."
   ]
  },
  {
   "cell_type": "code",
   "execution_count": null,
   "metadata": {
    "id": "p21Xm2sKk9jm"
   },
   "outputs": [],
   "source": [
    "# Generate linear toy dataset\n",
    "def f_linear(x, noise_amount, sigma):\n",
    "    y = -0.3 + 0.5*x\n",
    "    noise = np.random.normal(0, sigma, len(x))\n",
    "    return y + noise_amount*noise\n",
    "\n",
    "# Create training and test points\n",
    "sigma = 0.2\n",
    "nbpts=25\n",
    "dataset_linear = {}\n",
    "dataset_linear['X_train'] = np.random.uniform(0, 2, nbpts)\n",
    "dataset_linear['y_train'] = f_linear(dataset_linear['X_train'], noise_amount=1, sigma=sigma)\n",
    "dataset_linear['X_test'] = np.linspace(-10,10, 10*nbpts)\n",
    "dataset_linear['y_test'] = f_linear(dataset_linear['X_test'], noise_amount=0, sigma=sigma)"
   ]
  },
  {
   "cell_type": "code",
   "execution_count": null,
   "metadata": {
    "colab": {
     "base_uri": "https://localhost:8080/",
     "height": 324
    },
    "id": "fuFe60p2k9jm",
    "outputId": "9a272328-0dc2-42f8-9a8b-5cc8952e6fae"
   },
   "outputs": [],
   "source": [
    "# Plot dataset\n",
    "plt.figure(figsize=(7, 5))\n",
    "plt.xlim(xmax=3, xmin=-1)\n",
    "plt.ylim(ymax=1.5, ymin=-1)\n",
    "plt.plot(\n",
    "    dataset_linear[\"X_test\"],\n",
    "    dataset_linear[\"y_test\"],\n",
    "    color=\"green\",\n",
    "    linewidth=2,\n",
    "    label=\"Ground Truth\",\n",
    ")\n",
    "plt.plot(\n",
    "    dataset_linear[\"X_train\"],\n",
    "    dataset_linear[\"y_train\"],\n",
    "    \"o\",\n",
    "    color=\"blue\",\n",
    "    label=\"Training points\",\n",
    ")\n",
    "plt.legend()\n",
    "plt.show()"
   ]
  },
  {
   "cell_type": "code",
   "execution_count": null,
   "metadata": {
    "id": "apnit4kMk9jn"
   },
   "outputs": [],
   "source": [
    "# Hyperparameters\n",
    "dataset_linear[\"ALPHA\"] = 2.0\n",
    "dataset_linear[\"BETA\"] = 1 / (2.0 * sigma**2)"
   ]
  },
  {
   "cell_type": "markdown",
   "metadata": {
    "id": "pUCRo_Kzk9jo"
   },
   "source": [
    "We will use the linear basis function:\n",
    "    $\\phi:x \\rightarrow (1,x)$\n",
    "\n",
    "Design matrix $\\Phi$ defined on training set is:\n",
    "$$ \\Phi=\n",
    "  \\begin{bmatrix}\n",
    "    1 & x_1 \\\\\n",
    "    ... & ...\\\\\n",
    "    1 & x_n\n",
    "  \\end{bmatrix}\n",
    "$$\n",
    "\n",
    "**Question 1.1: Code linear basis function**"
   ]
  },
  {
   "cell_type": "code",
   "execution_count": null,
   "metadata": {
    "id": "5ALpojY-k9jp"
   },
   "outputs": [],
   "source": [
    "# TO DO: Define basis function\n",
    "\n",
    "\n",
    "def phi_linear(x):\n",
    "    \"\"\"Linear Basis Functions\n",
    "\n",
    "    Args:\n",
    "      x: (float) 1D input\n",
    "\n",
    "    Returns:\n",
    "      (array) linear features of x\n",
    "    \"\"\"\n",
    "    # TO DO\n",
    "\n",
    "    return np.array([1, x])"
   ]
  },
  {
   "cell_type": "markdown",
   "metadata": {
    "id": "YNDP6CHUk9jq"
   },
   "source": [
    "**Question 1.2: Recall closed form of the posterior distribution in linear case. Then, code and visualize posterior sampling. What can you observe?**"
   ]
  },
  {
   "cell_type": "markdown",
   "metadata": {
    "id": "ocj53UV46Pck"
   },
   "source": [
    "$\\begin{aligned} p(\\mathrm{w} / \\mathrm{X}, \\mathrm{Y}) & =\\mathcal{N}(\\mathrm{w} \\mid \\boldsymbol{\\mu}, \\boldsymbol{\\Sigma}) \\\\ \\boldsymbol{\\Sigma}^{-1} & =\\alpha \\boldsymbol{I}+\\beta \\boldsymbol{\\Phi}^T \\boldsymbol{\\Phi} \\\\ \\boldsymbol{\\mu} & =\\beta \\boldsymbol{\\Sigma} \\boldsymbol{\\Phi}^T \\mathrm{Y}\\end{aligned}$"
   ]
  },
  {
   "cell_type": "code",
   "execution_count": null,
   "metadata": {
    "colab": {
     "base_uri": "https://localhost:8080/",
     "height": 715
    },
    "id": "ncro5WE9k9jq",
    "outputId": "2f2d63af-b581-4445-ef06-a87b35d8c7d5"
   },
   "outputs": [],
   "source": [
    "# TO DO: Code and visualize posterior sampling by completing code below\n",
    "\n",
    "plt.figure(figsize=(15, 10))\n",
    "\n",
    "for count, n in enumerate([0, 1, 2, 10, len(dataset_linear[\"X_train\"])]):\n",
    "    cur_data = dataset_linear[\"X_train\"][:n]\n",
    "    cur_lbl = dataset_linear[\"y_train\"][:n]\n",
    "    meshgrid = np.arange(-1, 1.01, 0.01)\n",
    "    w = np.zeros((2, 1))\n",
    "    posterior = np.zeros((meshgrid.shape[0], meshgrid.shape[0]))\n",
    "\n",
    "    # TO DO: code mu_n and sigma_N\n",
    "    if n != 0:\n",
    "        phi = np.array([phi_linear(x) for x in cur_data])\n",
    "        sigma_N = (\n",
    "            dataset_linear[\"ALPHA\"] * np.eye(2) + dataset_linear[\"BETA\"] * phi.T @ phi\n",
    "        )\n",
    "        sigma_N = np.linalg.inv(sigma_N)\n",
    "        mu_N = dataset_linear[\"BETA\"] * sigma_N @ phi.T @ cur_lbl\n",
    "    else:\n",
    "        sigma_N = dataset_linear[\"ALPHA\"] * np.eye(2)\n",
    "        sigma_N = np.linalg.inv(sigma_N)\n",
    "        mu_N = np.zeros((2,))\n",
    "\n",
    "    # Compute values on meshgrid\n",
    "    for i in range(meshgrid.shape[0]):\n",
    "        for j in range(meshgrid.shape[0]):\n",
    "            w[0, 0] = meshgrid[i]\n",
    "            w[1, 0] = meshgrid[j]\n",
    "            posterior[i, j] = np.exp(\n",
    "                -0.5\n",
    "                * np.dot(\n",
    "                    np.dot((w - mu_N.reshape(2, 1)).T, np.linalg.inv(sigma_N)),\n",
    "                    (w - mu_N.reshape(2, 1)),\n",
    "                )\n",
    "            )\n",
    "    Z = 1.0 / (np.sqrt(2 * np.pi * np.linalg.det(sigma_N)))\n",
    "    posterior[:, :] /= Z\n",
    "\n",
    "    # Plot posterior with n points\n",
    "    plt.subplot(231 + count)\n",
    "    plt.imshow(posterior, extent=[-1, 1, -1, 1])\n",
    "    plt.plot(0.5, 0.3, \"+\", markeredgecolor=\"white\", markeredgewidth=3, markersize=12)\n",
    "    plt.title(\"Posterior with N={} points\".format(n))\n",
    "plt.tight_layout()\n",
    "plt.show()"
   ]
  },
  {
   "cell_type": "markdown",
   "metadata": {
    "id": "Z8-IBI4Jk9jr"
   },
   "source": [
    "**Question 1.3: Recall and code closed form of the predictive distribution in linear case.**"
   ]
  },
  {
   "cell_type": "markdown",
   "metadata": {
    "id": "3trH0UE-7NYR"
   },
   "source": [
    "$p\\left(y \\mid x^*, \\mathcal{D}, \\alpha, \\beta\\right)=\\mathcal{N}\\left(y ; \\mu^T \\boldsymbol{\\Phi}\\left(\\mathrm{x}^*\\right), \\frac{1}{\\beta}+\\boldsymbol{\\Phi}\\left(\\mathrm{x}^*\\right)^T \\boldsymbol{\\Sigma} \\boldsymbol{\\Phi}\\left(\\mathrm{x}^*\\right)\\right)$"
   ]
  },
  {
   "cell_type": "code",
   "execution_count": null,
   "metadata": {
    "id": "_FQ3sLvyk9jr"
   },
   "outputs": [],
   "source": [
    "# TO DO: Code closed form solution according to the following requirements defined below\n",
    "\n",
    "def closed_form(func, X_train, y_train, alpha, beta):\n",
    "    \"\"\"Define analytical solution to Bayesian Linear Regression, with respect to the basis function chosen, the\n",
    "    training set (X_train, y_train) and the noise precision parameter beta and prior precision parameter alpha chosen.\n",
    "    It should return a function outputing both mean and std of the predictive distribution at a point x*.\n",
    "\n",
    "    Args:\n",
    "      func: (function) the basis function used\n",
    "      X_train: (array) train inputs, sized [N,]\n",
    "      y_train: (array) train labels, sized [N, ]\n",
    "      alpha: (float) prior precision parameter\n",
    "      beta: (float) noise precision parameter\n",
    "\n",
    "    Returns:\n",
    "      (function) prediction function, returning itself both mean and std\n",
    "    \"\"\"\n",
    "    if n != 0:\n",
    "        phi = np.array([func(x) for x in X_train])\n",
    "        sigma_N = alpha * np.eye(phi.shape[1]) + beta * phi.T @ phi\n",
    "        sigma_N = np.linalg.inv(sigma_N)\n",
    "        mu_N = beta * sigma_N @ phi.T @ y_train\n",
    "    else:\n",
    "        sigma_N = alpha * np.eye(phi.shape[1])\n",
    "        sigma_N = np.linalg.inv(sigma_N)\n",
    "        mu_N = np.zeros((2,))\n",
    "\n",
    "    # TO DO\n",
    "    def f_model(x):\n",
    "        mean = mu_N @ func(x)\n",
    "        std = np.sqrt(1 / beta + func(x).T @ sigma_N @ func(x))\n",
    "        return (mean, std)\n",
    "\n",
    "    return f_model"
   ]
  },
  {
   "cell_type": "code",
   "execution_count": null,
   "metadata": {
    "id": "fz10mUF2k9jr"
   },
   "outputs": [],
   "source": [
    "f_pred = closed_form(\n",
    "    phi_linear,\n",
    "    dataset_linear[\"X_train\"],\n",
    "    dataset_linear[\"y_train\"],\n",
    "    dataset_linear[\"ALPHA\"],\n",
    "    dataset_linear[\"BETA\"],\n",
    ")"
   ]
  },
  {
   "cell_type": "markdown",
   "metadata": {
    "id": "1Zs60Z4yk9js"
   },
   "source": [
    "**Question 1.4: Based on previously defined ``f_pred()``, predict on the test dataset. Then visualize results using ``plot_results()`` defined at the beginning of the notebook.**"
   ]
  },
  {
   "cell_type": "code",
   "execution_count": null,
   "metadata": {
    "colab": {
     "base_uri": "https://localhost:8080/",
     "height": 336
    },
    "id": "TinJJXnVk9js",
    "outputId": "d436d7e7-adf1-4ead-a34a-73a602b69ac9"
   },
   "outputs": [],
   "source": [
    "# TO DO : predict on test dataset and visualize results\n",
    "\n",
    "# You should use the following parameters for plot_results\n",
    "# xmin=-10, xmax=10, ymin=-6, ymax=6, stdmin=0.05, stdmax=1\n",
    "\n",
    "y_pred = []\n",
    "std_pred = []\n",
    "\n",
    "for x in dataset_linear[\"X_test\"]:\n",
    "    (mean, std) = f_pred(x)\n",
    "    y_pred.append(mean)\n",
    "    std_pred.append(std)\n",
    "\n",
    "y_pred = np.array(y_pred)\n",
    "std_pred = np.array(std_pred).reshape((len(std_pred),))\n",
    "\n",
    "plot_results(\n",
    "    dataset_linear[\"X_train\"],\n",
    "    dataset_linear[\"y_train\"],\n",
    "    dataset_linear[\"X_test\"],\n",
    "    dataset_linear[\"y_test\"],\n",
    "    y_pred,\n",
    "    std_pred,\n",
    "    xmin=-10,\n",
    "    xmax=10,\n",
    "    ymin=-6,\n",
    "    ymax=6,\n",
    "    stdmin=0.05,\n",
    "    stdmax=1,\n",
    ")"
   ]
  },
  {
   "cell_type": "markdown",
   "metadata": {
    "id": "39DD-Rw-k9js"
   },
   "source": [
    "**Question 1.5: Analyse these results. Why predictive variance increases far from training distribution? Prove it analytically in the case where $\\alpha=0$ and $\\beta=1$.**"
   ]
  },
  {
   "cell_type": "markdown",
   "metadata": {
    "id": "Wt75fgWR-ysO"
   },
   "source": [
    "We can notice that:\n",
    "- the further we are from the data, the bigger the variance is;\n",
    "- the variance is minimal at the training barycentre. \n",
    "\n",
    "Let's prove it analytically in the case where $\\alpha=0$ and $\\beta=1$.\n",
    "\n",
    "We have:\n",
    "\n",
    "\n",
    "\\begin{aligned}\n",
    "\\Sigma^{-1}\n",
    "&=\\alpha \\boldsymbol{I}+\\beta \\Phi^{T} \\Phi \\\\&= \\Phi^{T} \\Phi \\\\&=\n",
    "\\begin{pmatrix}\n",
    "    1 & ... & 1 \\\\\n",
    "    x_1 & ... & x_N \\\\\n",
    "\\end{pmatrix}\n",
    "\\cdot \n",
    "\\begin{pmatrix}\n",
    "    1 & x_1 \\\\\n",
    "    ... & ...\\\\\n",
    "    1 & x_N\n",
    "\\end{pmatrix}\n",
    " &= \\begin{pmatrix}\n",
    "    N & \\sum_{i} x_i \\\\\n",
    "    \\sum_{i} x_i & \\sum_{i} x_i^2 \\\\\n",
    "\\end{pmatrix} \n",
    "\\end{aligned}\n",
    "\n",
    "So \n",
    "\n",
    "\\begin{aligned}\n",
    "\\Sigma &= \\frac{1}{det(\\Sigma^{-1})} \\begin{pmatrix}\n",
    "    \\sum_{i} x_i^2 & -\\sum_{i} x_i \\\\\n",
    "    -\\sum_{i} x_i & N\n",
    "\\end{pmatrix}\n",
    "\\end{aligned}\n",
    "\n",
    "Then, the variance of a new data point $x^*$ is obtained by:\n",
    "\n",
    "\\begin{aligned}\n",
    "\\Phi\\left(\\mathrm{x}^{*}\\right)^{T} \\Sigma \\Phi\\left(\\mathrm{x}^{*}\\right) &= \\frac{1}{det(\\Sigma^{-1})}\n",
    "\\begin{pmatrix}\n",
    "    1 & x^* \\\\\n",
    "\\end{pmatrix}\n",
    "\\cdot\n",
    "\\begin{pmatrix}\n",
    "    \\sum_{i} x_i^2 & -\\sum_{i} x_i \\\\\n",
    "    -\\sum_{i} x_i & N\n",
    "\\end{pmatrix}\n",
    "\\cdot\n",
    "\\begin{pmatrix}\n",
    "    1 \\\\\n",
    "    x^*\n",
    "\\end{pmatrix}\\\\\n",
    "&= \\frac{1}{det(\\Sigma^{-1})}\\cdot\n",
    "\\begin{pmatrix}\n",
    "    \\sum_{i} x_i^2 - x^*\\sum_{i} x_i & - \\sum_{i} x_i + Nx^*\\\\\n",
    "\\end{pmatrix}\n",
    "\\cdot\n",
    "\\begin{pmatrix}\n",
    "    1 \\\\\n",
    "    x^*\n",
    "\\end{pmatrix}\n",
    " \\\\\n",
    "&= \\frac{1}{det(\\Sigma^{-1})}\\cdot (\\sum_{i} x_i^2 - 2x^*\\sum_{i} x_i + N(x^*)^2)\\\\\n",
    "&= \\frac{1}{det(\\Sigma^{-1})}\\cdot (\\sum_{i} (x_i - x^*)^2)\n",
    "\\end{aligned}\n",
    "\n",
    "\n",
    "It now clear that the further we are from the training examples the bigger the variance is."
   ]
  },
  {
   "cell_type": "markdown",
   "metadata": {
    "id": "lUXm1VZjk9jt"
   },
   "source": [
    "**Bonus Question: What happens when applying Bayesian Linear Regression on the following dataset?**"
   ]
  },
  {
   "cell_type": "code",
   "execution_count": null,
   "metadata": {
    "colab": {
     "base_uri": "https://localhost:8080/",
     "height": 324
    },
    "id": "5EGs0Ulkk9jt",
    "outputId": "0375132a-83dc-4e7c-cb92-a215a21dd760"
   },
   "outputs": [],
   "source": [
    "# Create training and test points\n",
    "sigma = 0.2\n",
    "dataset_hole = {}\n",
    "dataset_hole[\"X_train\"] = np.concatenate(\n",
    "    ([np.random.uniform(-3, -1, 10), np.random.uniform(1, 3, 10)]), axis=0\n",
    ")\n",
    "dataset_hole[\"y_train\"] = f_linear(dataset_hole[\"X_train\"], noise_amount=1, sigma=sigma)\n",
    "dataset_hole[\"X_test\"] = np.linspace(-12, 12, 100)\n",
    "dataset_hole[\"y_test\"] = f_linear(dataset_hole[\"X_test\"], noise_amount=0, sigma=sigma)\n",
    "dataset_hole[\"ALPHA\"] = 2.0\n",
    "dataset_hole[\"BETA\"] = 1 / (2.0 * sigma**2)\n",
    "\n",
    "# Plot dataset\n",
    "plt.figure(figsize=(7, 5))\n",
    "plt.xlim(xmin=-12, xmax=12)\n",
    "plt.ylim(ymin=-7, ymax=6)\n",
    "plt.plot(\n",
    "    dataset_hole[\"X_test\"],\n",
    "    dataset_hole[\"y_test\"],\n",
    "    color=\"green\",\n",
    "    linewidth=2,\n",
    "    label=\"Ground Truth\",\n",
    ")\n",
    "plt.plot(\n",
    "    dataset_hole[\"X_train\"],\n",
    "    dataset_hole[\"y_train\"],\n",
    "    \"o\",\n",
    "    color=\"blue\",\n",
    "    label=\"Training points\",\n",
    ")\n",
    "plt.legend()\n",
    "plt.show()"
   ]
  },
  {
   "cell_type": "code",
   "execution_count": null,
   "metadata": {
    "colab": {
     "base_uri": "https://localhost:8080/",
     "height": 336
    },
    "id": "644vjrOSk9jt",
    "outputId": "17c771e6-b10c-4a82-ac7e-b417dd25a098"
   },
   "outputs": [],
   "source": [
    "# TO DO: Define f_pred, predict on test points and plot results\n",
    "\n",
    "# You should use the following parameters for plot_results\n",
    "# xmin=-12, xmax=12, ymin=-7, ymax=6, stdmin=0.0, stdmax=0.5\n",
    "\n",
    "f_pred = closed_form(\n",
    "    phi_linear,\n",
    "    dataset_hole[\"X_train\"],\n",
    "    dataset_hole[\"y_train\"],\n",
    "    dataset_hole[\"ALPHA\"],\n",
    "    dataset_hole[\"BETA\"],\n",
    ")\n",
    "\n",
    "y_pred = []\n",
    "std_pred = []\n",
    "\n",
    "for x in dataset_hole[\"X_test\"]:\n",
    "    (mean, std) = f_pred(x)\n",
    "    y_pred.append(mean)\n",
    "    std_pred.append(std)\n",
    "\n",
    "y_pred = np.array(y_pred)\n",
    "std_pred = np.array(std_pred).reshape((len(std_pred),))\n",
    "\n",
    "plot_results(\n",
    "    dataset_hole[\"X_train\"],\n",
    "    dataset_hole[\"y_train\"],\n",
    "    dataset_hole[\"X_test\"],\n",
    "    dataset_hole[\"y_test\"],\n",
    "    y_pred,\n",
    "    std_pred,\n",
    "    xmin=-10,\n",
    "    xmax=10,\n",
    "    ymin=-6,\n",
    "    ymax=6,\n",
    "    stdmin=0.05,\n",
    "    stdmax=1,\n",
    ")"
   ]
  },
  {
   "cell_type": "markdown",
   "metadata": {
    "id": "guACPZqGk9ju"
   },
   "source": [
    "## Part II: Non Linear models\n",
    "\n",
    "We now introduce a more complex toy dataset, which is an increasing sinusoidal curve. The goal of this part is to get insight on the importance of the chosen basis function on the predictive variance behavior."
   ]
  },
  {
   "cell_type": "markdown",
   "metadata": {
    "id": "vh5fl1_zyDkQ"
   },
   "source": [
    "alpha = 0.05, beta=1/sigma**2"
   ]
  },
  {
   "cell_type": "code",
   "execution_count": null,
   "metadata": {
    "colab": {
     "base_uri": "https://localhost:8080/",
     "height": 324
    },
    "id": "IHkYOz8_k9ju",
    "outputId": "7c670e4a-f8ff-45ff-d453-b98c7740f97e"
   },
   "outputs": [],
   "source": [
    "# Generate sinusoidal toy dataset\n",
    "def f_sinus(x, noise_amount, sigma=0.2):\n",
    "    y = np.sin(2 * np.pi * x) + x\n",
    "    noise = np.random.normal(0, sigma, len(x))\n",
    "    return y + noise_amount * noise\n",
    "\n",
    "\n",
    "# Create training and test points\n",
    "sigma = 0.2\n",
    "alpha = 0.05\n",
    "beta = 1 / (2 * sigma * sigma)\n",
    "nbpts = 50\n",
    "dataset_sinus = {}\n",
    "dataset_sinus[\"X_train\"] = np.random.uniform(0, 1, nbpts)\n",
    "dataset_sinus[\"y_train\"] = f_sinus(\n",
    "    dataset_sinus[\"X_train\"], noise_amount=1, sigma=sigma\n",
    ")\n",
    "dataset_sinus[\"X_test\"] = np.linspace(-1, 2, 10 * nbpts)\n",
    "dataset_sinus[\"y_test\"] = f_sinus(dataset_sinus[\"X_test\"], noise_amount=0, sigma=sigma)\n",
    "\n",
    "\n",
    "# Plot dataset\n",
    "plt.figure(figsize=(7, 5))\n",
    "plt.xlim(xmin=-1, xmax=2)\n",
    "plt.ylim(ymin=-2, ymax=3)\n",
    "plt.plot(\n",
    "    dataset_sinus[\"X_test\"],\n",
    "    dataset_sinus[\"y_test\"],\n",
    "    color=\"green\",\n",
    "    linewidth=2,\n",
    "    label=\"Ground Truth\",\n",
    ")\n",
    "plt.plot(\n",
    "    dataset_sinus[\"X_train\"],\n",
    "    dataset_sinus[\"y_train\"],\n",
    "    \"o\",\n",
    "    color=\"blue\",\n",
    "    label=\"Training points\",\n",
    ")\n",
    "plt.legend()\n",
    "plt.show()"
   ]
  },
  {
   "cell_type": "markdown",
   "metadata": {
    "id": "KPmMhMUfk9ju"
   },
   "source": [
    "### II.1 Polynomial basis functions\n",
    "\n",
    "We will first use polynomial basis functions:\n",
    "$$\\phi:x \\rightarrow (\\phi_0,\\phi_1,...,\\phi_{D-1})$$\n",
    "where $\\phi_j = x^j$ for $j \\geq 0$ and $D \\geq 0$\n",
    "\n",
    "\n",
    "Design matrix $\\Phi$ defined on training set is:\n",
    "$$ \\Phi=\n",
    "  \\begin{bmatrix}\n",
    "    1 & x_1 & x_1^2 &... &x_1^{D-1} \\\\\n",
    "    ... & ... & ... & ...\\\\\n",
    "    1 & x_n & x_n^2 &... &x_n^{D-1}\n",
    "  \\end{bmatrix}\n",
    "$$\n",
    "\n",
    "**Question 2.1: Code polynomial basis function**"
   ]
  },
  {
   "cell_type": "code",
   "execution_count": null,
   "metadata": {
    "id": "OgLnPHGwk9ju"
   },
   "outputs": [],
   "source": [
    "# Define basis function\n",
    "def phi_polynomial(x):\n",
    "    \"\"\"Polynomial Basis Functions\n",
    "\n",
    "    Args:\n",
    "      x: (float) 1D input\n",
    "\n",
    "    Returns:\n",
    "      (array) polynomial features of x\n",
    "    \"\"\"\n",
    "    D = 10\n",
    "    # TO DO\n",
    "    return np.array([x**i for i in range(D)])"
   ]
  },
  {
   "cell_type": "markdown",
   "metadata": {
    "id": "6vtaF7yKk9jv"
   },
   "source": [
    "**Question 2.2 : Code and visualize results on sinusoidal dataset using polynomial basis functions. What can you say about the predictive variance?**"
   ]
  },
  {
   "cell_type": "code",
   "execution_count": null,
   "metadata": {
    "colab": {
     "base_uri": "https://localhost:8080/",
     "height": 336
    },
    "id": "cDauFBWek9jv",
    "outputId": "2328132c-d98c-49b1-8169-2d487a8a28e9"
   },
   "outputs": [],
   "source": [
    "# TO DO: Define f_pred, predict on test points and plot results\n",
    "\n",
    "# You should use the following parameters for plot_results\n",
    "# xmin=-1, xmax=2, ymin=-3, ymax=5, stdmin=0, stdmax=10\n",
    "\n",
    "f_pred = closed_form(\n",
    "    phi_polynomial, dataset_sinus[\"X_train\"], dataset_sinus[\"y_train\"], alpha, beta\n",
    ")\n",
    "\n",
    "y_pred = []\n",
    "std_pred = []\n",
    "\n",
    "for x in dataset_sinus[\"X_test\"]:\n",
    "    (mean, std) = f_pred(x)\n",
    "    y_pred.append(mean)\n",
    "    std_pred.append(std)\n",
    "\n",
    "y_pred = np.array(y_pred)\n",
    "std_pred = np.array(std_pred).reshape((len(std_pred),))\n",
    "\n",
    "plot_results(\n",
    "    dataset_sinus[\"X_train\"],\n",
    "    dataset_sinus[\"y_train\"],\n",
    "    dataset_sinus[\"X_test\"],\n",
    "    dataset_sinus[\"y_test\"],\n",
    "    y_pred,\n",
    "    std_pred,\n",
    "    xmin=-1,\n",
    "    xmax=2,\n",
    "    ymin=-3,\n",
    "    ymax=5,\n",
    "    stdmin=0,\n",
    "    stdmax=10,\n",
    ")"
   ]
  },
  {
   "cell_type": "markdown",
   "metadata": {
    "id": "gJ5CKI3ek9jv"
   },
   "source": [
    "### II.2 Gaussian basis functions\n",
    "\n",
    "Now, let's consider gaussian basis functions:\n",
    "$$\\phi:x \\rightarrow (\\phi_0,\\phi_1,...,\\phi_M)$$\n",
    "where $\\phi_j = \\exp \\Big ( -\\frac{(x-\\mu_j)^2}{2s^2} \\Big )$ for $j \\geq 0$\n",
    "\n",
    "\n",
    "Design matrix $\\Phi$ defined on training set is:\n",
    "$$ \\Phi=\n",
    "  \\begin{bmatrix}\n",
    "    \\phi_0(x_1) & \\phi_1(x_1) &... &\\phi_M(x_1) \\\\\n",
    "    ... & ... & ... & ...\\\\\n",
    "    \\phi_0(x_n) & \\phi_1(x_n) &... &\\phi_M(x_n)\n",
    "  \\end{bmatrix}\n",
    "$$\n",
    "\n",
    "**Question 2.3: Code gaussian basis function**"
   ]
  },
  {
   "cell_type": "code",
   "execution_count": null,
   "metadata": {
    "id": "SgR9MA6fk9jw"
   },
   "outputs": [],
   "source": [
    "# TO DO: Define Gaussian basis function\n",
    "MU_MIN = 0\n",
    "MU_MAX = 1\n",
    "M = 9\n",
    "\n",
    "\n",
    "def phi_gaussian(x):\n",
    "    \"\"\"Gaussian Basis Functions\n",
    "\n",
    "    Args:\n",
    "      x: (float) 1D input\n",
    "\n",
    "    Returns:\n",
    "      (array) gaussian features of x\n",
    "    \"\"\"\n",
    "    s = (MU_MAX - MU_MIN) / M\n",
    "    \n",
    "    return np.exp(-((x - np.arange(MU_MIN, MU_MAX, s)) ** 2) / (2 * s * s))"
   ]
  },
  {
   "cell_type": "markdown",
   "metadata": {
    "id": "9A2cbVPok9jw"
   },
   "source": [
    "**Question 2.4 : Code and visualize results on sinusoidal dataset using Gaussian basis functions. What can you say this time about the predictive variance?**"
   ]
  },
  {
   "cell_type": "code",
   "execution_count": null,
   "metadata": {
    "colab": {
     "base_uri": "https://localhost:8080/",
     "height": 336
    },
    "id": "Fo4AtixSk9jw",
    "outputId": "d1d5d308-b772-463e-88e3-fa064753e454"
   },
   "outputs": [],
   "source": [
    "# TO DO: Define f_pred, predict on test points and plot results\n",
    "\n",
    "# You should use the following parameters for plot_results\n",
    "# xmin=-1, xmax=2, ymin=-2, ymax=3, stdmin=0.05, stdmax=0.2\n",
    "\n",
    "f_pred = closed_form(\n",
    "    phi_gaussian, dataset_sinus[\"X_train\"], dataset_sinus[\"y_train\"], alpha, beta\n",
    ")\n",
    "\n",
    "y_pred = []\n",
    "std_pred = []\n",
    "\n",
    "for x in dataset_sinus[\"X_test\"]:\n",
    "    (mean, std) = f_pred(x)\n",
    "    y_pred.append(mean)\n",
    "    std_pred.append(std)\n",
    "\n",
    "y_pred = np.array(y_pred)\n",
    "std_pred = np.array(std_pred).reshape((len(std_pred),))\n",
    "\n",
    "plot_results(\n",
    "    dataset_sinus[\"X_train\"],\n",
    "    dataset_sinus[\"y_train\"],\n",
    "    dataset_sinus[\"X_test\"],\n",
    "    dataset_sinus[\"y_test\"],\n",
    "    y_pred,\n",
    "    std_pred,\n",
    "    xmin=-1,\n",
    "    xmax=2,\n",
    "    ymin=-2,\n",
    "    ymax=3,\n",
    "    stdmin=0.05,\n",
    "    stdmax=0.2,\n",
    ")"
   ]
  },
  {
   "cell_type": "markdown",
   "metadata": {
    "id": "BFK3XDyXk9jw"
   },
   "source": [
    "**Question 2.5: Explain why in regions far from training distribution, the predictive variance converges to this value when using localized basis functions such as Gaussians.**"
   ]
  }
 ],
 "metadata": {
  "colab": {
   "provenance": []
  },
  "kernelspec": {
   "display_name": "Python 3 (ipykernel)",
   "language": "python",
   "name": "python3"
  },
  "language_info": {
   "codemirror_mode": {
    "name": "ipython",
    "version": 3
   },
   "file_extension": ".py",
   "mimetype": "text/x-python",
   "name": "python",
   "nbconvert_exporter": "python",
   "pygments_lexer": "ipython3",
   "version": "3.8.10"
  }
 },
 "nbformat": 4,
 "nbformat_minor": 1
}
