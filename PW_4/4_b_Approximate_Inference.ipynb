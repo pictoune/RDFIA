{
 "cells": [
  {
   "cell_type": "markdown",
   "metadata": {
    "id": "CfDd0DKVtknP"
   },
   "source": [
    "# 4-b: Approximate Inference in Classification\n",
    "\n",
    "In classification taks, even for a mere Logistic Regression, we don't have access to a closed form of the posterior $p(\\pmb{w} \\vert \\mathcal{D})$. Unlike in Linear regression, the likelihood isn't conjugated to the Gaussian prior anymore. We ill need to approximate this posterior.\n",
    "\n",
    "During this session, we will explore and compare approximate inference approaches on 2D binary classification datasets. Studied approaches include Laplacian approximation, variational inference with mean-field approximation and Monte Carlo dropout.\n",
    "\n",
    "**Goal**: Take hand on approximate inference methods and understand how they works on linear and non-linear 2D datasets."
   ]
  },
  {
   "cell_type": "markdown",
   "metadata": {
    "id": "clhZGFZ2wOxg"
   },
   "source": [
    "### All Imports and Useful Functions"
   ]
  },
  {
   "cell_type": "markdown",
   "metadata": {
    "id": "i7Cv7C3O7qaw"
   },
   "source": [
    "Here we are going to install and import everything we are going to need for this tutorial. \n",
    "\n",
    "**Note**: *You can double-click the title of the collapsed cells (as the ones below) to expand them and read their content.*"
   ]
  },
  {
   "cell_type": "code",
   "execution_count": null,
   "metadata": {
    "cellView": "form",
    "id": "p-kN2Wxbv2Ui"
   },
   "outputs": [],
   "source": [
    "#@title Import libs\n",
    "import numpy as np\n",
    "import matplotlib.pyplot as plt\n",
    "from sklearn.datasets import make_blobs, make_moons\n",
    "from IPython import display\n",
    "%matplotlib inline\n",
    "\n",
    "import torch\n",
    "import torch.nn as nn\n",
    "from torch.utils import data\n",
    "import torch.nn.functional as F\n",
    "from torch.autograd import grad\n",
    "import torch.distributions as dist"
   ]
  },
  {
   "cell_type": "code",
   "execution_count": null,
   "metadata": {
    "cellView": "form",
    "id": "CMDnycZQPMpL"
   },
   "outputs": [],
   "source": [
    "# @title Useful plot function\n",
    "def plot_decision_boundary(\n",
    "    model,\n",
    "    X,\n",
    "    Y,\n",
    "    epoch,\n",
    "    accuracy,\n",
    "    model_type=\"classic\",\n",
    "    nsamples=100,\n",
    "    posterior=None,\n",
    "    tloc=(-4, -7),\n",
    "    nbh=2,\n",
    "    cmap=\"RdBu\",\n",
    "):\n",
    "    \"\"\"Plot and show learning process in classification\"\"\"\n",
    "    h = 0.02 * nbh\n",
    "    x_min, x_max = X[:, 0].min() - 10 * h, X[:, 0].max() + 10 * h\n",
    "    y_min, y_max = X[:, 1].min() - 10 * h, X[:, 1].max() + 10 * h\n",
    "    xx, yy = np.meshgrid(\n",
    "        np.arange(x_min * 2, x_max * 2, h), np.arange(y_min * 2, y_max * 2, h)\n",
    "    )\n",
    "\n",
    "    test_tensor = torch.from_numpy(np.c_[xx.ravel(), yy.ravel()]).type(\n",
    "        torch.FloatTensor\n",
    "    )\n",
    "\n",
    "    model.eval()\n",
    "    \n",
    "    with torch.no_grad():\n",
    "        if model_type == \"classic\":\n",
    "            pred = model(test_tensor)\n",
    "        elif model_type == \"laplace\":\n",
    "            # Save original mean weight\n",
    "            original_weight = model.state_dict()[\"fc.weight\"].detach().clone()\n",
    "            outputs = torch.zeros(nsamples, test_tensor.shape[0], 1)\n",
    "            \n",
    "            for i in range(nsamples):\n",
    "                state_dict = model.state_dict()\n",
    "                state_dict[\"fc.weight\"] = torch.from_numpy(posterior[i].reshape(1, 2))\n",
    "                model.load_state_dict(state_dict)\n",
    "                outputs[i] = net(test_tensor)\n",
    "\n",
    "            pred = outputs.mean(0).squeeze()\n",
    "            state_dict[\"fc.weight\"] = original_weight\n",
    "            model.load_state_dict(state_dict)\n",
    "\n",
    "        elif model_type == \"vi\":\n",
    "            outputs = torch.zeros(nsamples, test_tensor.shape[0], 1)\n",
    "            \n",
    "            for i in range(nsamples):\n",
    "                outputs[i] = model(test_tensor)\n",
    "\n",
    "            pred = outputs.mean(0).squeeze()\n",
    "\n",
    "        elif model_type == \"mcdropout\":\n",
    "            model.eval()\n",
    "            model.training = True\n",
    "            outputs = torch.zeros(nsamples, test_tensor.shape[0], 1)\n",
    "            \n",
    "            for i in range(nsamples):\n",
    "                outputs[i] = model(test_tensor)\n",
    "\n",
    "            pred = outputs.mean(0).squeeze()\n",
    "\n",
    "    Z = pred.reshape(xx.shape).detach().numpy()\n",
    "\n",
    "    plt.cla()\n",
    "    ax.set_title(\"Classification Analysis\")\n",
    "    ax.contourf(xx, yy, Z, cmap=cmap, alpha=0.25)\n",
    "    ax.contour(xx, yy, Z, colors=\"k\", linestyles=\":\", linewidths=0.7)\n",
    "    ax.scatter(X[:, 0], X[:, 1], c=Y, cmap=\"Paired_r\", edgecolors=\"k\")\n",
    "    ax.text(\n",
    "        tloc[0],\n",
    "        tloc[1],\n",
    "        f\"Epoch = {epoch+1}, Accuracy = {accuracy:.2%}\",\n",
    "        fontdict={\"size\": 12, \"fontweight\": \"bold\"},\n",
    "    )\n",
    "    display.display(plt.gcf())\n",
    "    display.clear_output(wait=True)"
   ]
  },
  {
   "cell_type": "markdown",
   "metadata": {
    "id": "aAk_gzoRtknr"
   },
   "source": [
    "## Part I: Bayesian Logistic Regression"
   ]
  },
  {
   "cell_type": "markdown",
   "metadata": {
    "id": "Q4aNuqE77jsS"
   },
   "source": [
    "In linear regression, model prediction is of the continuous form $f(\\pmb{x})=\\pmb{w}^T\\pmb{x}+b$.\n",
    "\n",
    "For classification, we wish to predict discrete class labels $\\mathcal{C}_k$ to a sample $\\pmb{x}$. \n",
    "For simplicity, let's consider here binary classification:\n",
    "$$f(\\pmb{x}) = \\sigma(\\pmb{w}^T\\pmb{x} + b)$$\n",
    "where $\\sigma(t)= \\frac{1}{1+e^t}$ is the sigmoid function.\n",
    "\n",
    "As in linear regression, we define a Gaussian prior: \n",
    "$$ p(\\pmb{w}) = \\mathcal{N}(\\pmb{w}; \\pmb{\\mu}_0, \\pmb{\\Sigma}_0^2) $$\n",
    "Unfortunately, the posterior distribution isn't tractable as the likelihood isn't conjugate to the prior anymore.\n",
    "\n",
    "We will explore in the following different methods to obtain an estimate of the posterior distribution and hence the predictive distribution."
   ]
  },
  {
   "cell_type": "markdown",
   "metadata": {
    "id": "ZCp4ytXhV6IU"
   },
   "source": [
    "### I.0 Dataset"
   ]
  },
  {
   "cell_type": "code",
   "execution_count": null,
   "metadata": {
    "cellView": "form",
    "id": "m-QrdljAUG5E"
   },
   "outputs": [],
   "source": [
    "# @title Hyperparameters for model and approximate inference { form-width: \"30%\" }\n",
    "\n",
    "WEIGHT_DECAY = 5e-2  # @param\n",
    "NB_SAMPLES = 400  # @param\n",
    "TEXT_LOCATION = (-5, -7)"
   ]
  },
  {
   "cell_type": "code",
   "execution_count": null,
   "metadata": {
    "colab": {
     "base_uri": "https://localhost:8080/",
     "height": 265
    },
    "id": "GPI60gDOtkns",
    "outputId": "2367a190-cb11-4d77-e59f-9e24d856202f"
   },
   "outputs": [],
   "source": [
    "# Load linear dataset\n",
    "X, y = make_blobs(\n",
    "    n_samples=NB_SAMPLES, centers=[(-2, -2), (2, 2)], cluster_std=0.80, n_features=2\n",
    ")\n",
    "X, y = torch.from_numpy(X), torch.from_numpy(y)\n",
    "X, y = X.type(torch.float), y.type(torch.float)\n",
    "torch_train_dataset = data.TensorDataset(X, y)  # create your datset\n",
    "train_dataloader = data.DataLoader(\n",
    "    torch_train_dataset, batch_size=len(torch_train_dataset)\n",
    ")\n",
    "\n",
    "# Visualize dataset\n",
    "plt.scatter(X[:, 0], X[:, 1], c=y, cmap=\"Paired_r\", edgecolors=\"k\")\n",
    "plt.show()"
   ]
  },
  {
   "cell_type": "markdown",
   "metadata": {
    "id": "sNGfQhFqtknu"
   },
   "source": [
    "### I.1 Maximum-A-Posteriori Estimate"
   ]
  },
  {
   "cell_type": "markdown",
   "metadata": {
    "id": "t1CE5ewMVdt9"
   },
   "source": [
    "\n",
    "In this \"baseline\", we reduce our posterior distribution $p(\\pmb{w} | \\mathcal{D})$ to a point estimate $\\pmb{w}_{MAP}$. For a new sample $\\pmb{x^*}$, the predictive distribution can then be approximated by\n",
    "$$ p(\\mathbf{y} = 1|\\pmb{x^*},\\mathcal{D}) = \\int p(\\mathbf{y} =1 |\\pmb{x},\\pmb{w})p(\\pmb{w} | \\mathcal{D})d\\pmb{w} \\approx p(y =1 |\\pmb{x},\\pmb{w}_{\\textrm{MAP}}).$$\n",
    "This approximation is called the **plug-in approximation**.\n",
    "\n",
    "The point estimate corresponds to the Maximum-A-Posteriori minimum given by:\n",
    "$$ \\pmb{w}_{\\textrm{MAP}} = arg \\max_{\\pmb{w}} p(\\pmb{w} \\vert \\mathcal{D}) = arg \\max_{\\pmb{w}} p(\\mathcal{D} \\vert \\pmb{w})p(\\pmb{w}) = arg \\max_{\\pmb{w}} \\prod_{n=1}^N p(y_n \\vert \\pmb{x}_n, \\pmb{w})p(\\pmb{w}) $$\n",
    "Looking for the maximum solution of previous equation is equivalent to the minimum solution of $- \\log p(\\pmb{w} \\vert \\mathcal{D})$. In case of a Gaussian prior, it can further be derived as:\n",
    "$$ \\pmb{w}_{\\textrm{MAP}} = arg \\min_{\\pmb{w}} \\sum_{n=1}^N \\big ( -y_n \\log \\sigma(\\pmb{w}^T \\pmb{x}_n + b) - (1-y_n) \\log (1 - \\sigma(\\pmb{w}^T \\pmb{x}_n + b)) + \\frac{1}{2 \\Sigma_0^2} \\vert \\vert \\pmb{w} \\vert \\vert_2^2 \\big ) $$\n",
    "\n",
    "Note that:\n",
    "- This actually correspond to the minimum given by the standard **cross-entropy** loss in classification with a weight decay regularization\n",
    "- Unlike in linear regression, $\\pmb{w}_{MAP}$ **cannot be computed analytically**\n",
    "- But we can use optimization methods to compute it, e.g. **stochastic gradient descent**\n",
    "- Nevertheless, we only obtain a **point-wise estimate**, and not a full distribution over parameters $\\pmb{w}$\n",
    "\n",
    "\n",
    "Consequently, **the objective is simply to implement and train a Logistic Regression model** with Pytorch and then compute $p(\\mathbf{y} = 1|\\pmb{x}^*,\\mathcal{D})$ on a new sample $\\pmb{x}^*$ as in a deterministic model."
   ]
  },
  {
   "cell_type": "code",
   "execution_count": null,
   "metadata": {
    "id": "0_I-DiH3tknv"
   },
   "outputs": [],
   "source": [
    "class LogisticRegression(nn.Module):\n",
    "    \"\"\"A Logistic Regression Model with sigmoid output in Pytorch\"\"\"\n",
    "\n",
    "    def __init__(self, input_size):\n",
    "        super().__init__()\n",
    "        self.fc = nn.Linear(input_size, 1)\n",
    "\n",
    "    def forward(self, x):\n",
    "        out = self.fc(x)\n",
    "        return torch.sigmoid(out)"
   ]
  },
  {
   "cell_type": "code",
   "execution_count": null,
   "metadata": {
    "colab": {
     "base_uri": "https://localhost:8080/",
     "height": 444
    },
    "id": "hx-vyfGdtknw",
    "outputId": "402e8f5a-0b61-4c9f-a73b-87064eb2d65c"
   },
   "outputs": [],
   "source": [
    "# @title **[CODING TASK]** Train a Logistic Regression model with stochastic gradient descent for 20 epochs.\n",
    "\n",
    "net = LogisticRegression(input_size=X.shape[1])\n",
    "net.train()\n",
    "criterion = nn.BCELoss()\n",
    "\n",
    "# L2 regularization is included in Pytorch's optimizer implementation\n",
    "# as \"weigth_decay\" option\n",
    "optimizer = torch.optim.SGD(\n",
    "    net.parameters(), lr=0.1, momentum=0.9, weight_decay=WEIGHT_DECAY\n",
    ")\n",
    "\n",
    "fig, ax = plt.subplots(figsize=(7, 7))\n",
    "\n",
    "# ============ YOUR CODE HERE ============\n",
    "# Train previously defined network for 20 epochs with SGD\n",
    "# and plot result for each epoch by uncommenting function below\n",
    "\n",
    "for epoch in range(20):  # loop over the dataset multiple times\n",
    "    # ============ YOUR CODE HERE ============\n",
    "    optimizer.zero_grad()\n",
    "    output = net(X).squeeze()\n",
    "    Ltrain = criterion(output, y)\n",
    "    Ltrain.backward()\n",
    "    optimizer.step()\n",
    "    plot_decision_boundary(\n",
    "        net,\n",
    "        X,\n",
    "        y,\n",
    "        epoch,\n",
    "        ((output >= 0.5) == y).float().mean(),\n",
    "        model_type=\"classic\",\n",
    "        tloc=TEXT_LOCATION,\n",
    "    )\n",
    "\n",
    "    # For plotting and showing learning process at each epoch\n",
    "    # plot_decision_boundary(net, X, y, epoch, ((output>=0.5) == y).float().mean(),\n",
    "    #                       model_type='classic', tloc=TEXT_LOCATION)"
   ]
  },
  {
   "cell_type": "markdown",
   "metadata": {
    "id": "FkFuifc5tknx"
   },
   "source": [
    "**[Question 1.1]: Analyze the results provided by previous plot. Looking at $p(\\mathbf{y}=1 | \\pmb{x}, \\pmb{w}_{\\textrm{MAP}})$, what can you say about points far from train distribution?**"
   ]
  },
  {
   "cell_type": "markdown",
   "metadata": {
    "id": "DsTozn8kQccU"
   },
   "source": [
    "### I.2 Laplace Approximation\n"
   ]
  },
  {
   "cell_type": "markdown",
   "metadata": {
    "id": "BadWX2XfWEZe"
   },
   "source": [
    "We will use Laplace approximation to estimate the intractable posterior $p(\\pmb{w} | \\mathcal{D})$.\n",
    "\n",
    "Here, $p(\\pmb{w} | \\mathcal{D})$ is approximated with a normal distribution $\\mathcal{N}(\\pmb{w} ; \\pmb{\\mu}_{lap}, \\pmb{\\Sigma}_{lap}^2)$ where: \n",
    "\n",
    "- the mean of the normal distribution $\\pmb{\\mu}_{lap}$ corresponds to the mode of $p(\\pmb{w} | \\mathcal{D})$. In other words, it simply consists in taking the optimum weights of Maximum-A-Posteriori estimation : \n",
    "$$\\pmb{\\mu}_{lap} = \\pmb{w}_{\\textrm{MAP}} = \\arg \\min_{\\pmb{w}} -\\log p(\\pmb{w} | \\mathcal{D})$$. \n",
    "- the covariance matrix is obtained by computing the Hessian of the loss function $-\\log p(\\pmb{w} \\vert \\mathcal{D})$ at $\\pmb{w}=\\pmb{w}_{\\textrm{MAP}}$: \n",
    "$$(\\pmb{\\Sigma}^2_{lap})^{-1} = \\nabla\\nabla_{\\pmb{w}} [p(\\pmb{w} \\vert \\mathcal{D}) ]_{\\pmb{w}=\\pmb{w}_{\\textrm{MAP}}}$$"
   ]
  },
  {
   "cell_type": "code",
   "execution_count": null,
   "metadata": {
    "colab": {
     "base_uri": "https://localhost:8080/"
    },
    "id": "0LrZKf_dUs5q",
    "outputId": "73d0e7da-501b-445b-cf47-4bef1edd6288"
   },
   "outputs": [],
   "source": [
    "# @title **[CODING TASK]** Extract μ_lap from previously trained model.\n",
    "# NB: Select only weights parameters (without bias)\n",
    "\n",
    "# ============ YOUR CODE HERE ============\n",
    "print(net)\n",
    "weights = net.fc.weight\n",
    "w_map = weights"
   ]
  },
  {
   "cell_type": "markdown",
   "metadata": {
    "id": "brSZS4nZx4_U"
   },
   "source": [
    "To compute the Hessian, we first compute the gradient at $\\pmb{w}_{\\textrm{MAP}}$:"
   ]
  },
  {
   "cell_type": "code",
   "execution_count": null,
   "metadata": {
    "id": "UEOmQfiHS6L-"
   },
   "outputs": [],
   "source": [
    "# Computing first derivative w.r.t to model's weights\n",
    "optimizer.zero_grad()\n",
    "output = net(X).squeeze()\n",
    "loss = criterion(output, y) + net.fc.weight.norm() ** 2\n",
    "gradf_weight = grad(loss, net.fc.weight, create_graph=True)[0]"
   ]
  },
  {
   "cell_type": "code",
   "execution_count": null,
   "metadata": {
    "colab": {
     "base_uri": "https://localhost:8080/"
    },
    "id": "ADH0i667exQY",
    "outputId": "b0854205-4f04-4e3d-d9ab-118f40cda610"
   },
   "outputs": [],
   "source": [
    "# @title **[CODING TASK]** Compute the Hessian from the previous derivative\n",
    "\n",
    "# ============ YOUR CODE HERE ============\n",
    "# Apply the same grad function on each scalar element of the gradient to get\n",
    "# each raw of the Hessian. Concatenate both and compute the covariance\n",
    "# by inverting the Hessian\n",
    "# NB: to avoid accumulated gradient when debugging and running the cell\n",
    "# multiple times, you should convert your grad results to numpy straight away\n",
    "\n",
    "hess_weights = torch.cat(\n",
    "    (\n",
    "        grad(gradf_weight[0][0], net.fc.weight, create_graph=True, allow_unused=True)[\n",
    "            0\n",
    "        ],\n",
    "        grad(gradf_weight[0][1], net.fc.weight, create_graph=True, allow_unused=True)[\n",
    "            0\n",
    "        ],\n",
    "    )\n",
    ")\n",
    "Sigma_laplace = torch.linalg.inv(hess_weights)\n",
    "print(Sigma_laplace.shape)"
   ]
  },
  {
   "cell_type": "markdown",
   "metadata": {
    "id": "_g7CKY0Myq1o"
   },
   "source": [
    "We now compute the posterior approximate $\\mathcal{N}(\\pmb{w} ; \\pmb{\\mu}_{lap}, \\pmb{\\Sigma}_{lap}^2)$ with the parameters found. \n",
    "\n",
    "Given this distribution, we can compute the posterior thanks to Monte-Carlo sampling and plot results for the last epoch corresponding to $\\pmb{w}_{\\textrm{MAP}}$:"
   ]
  },
  {
   "cell_type": "code",
   "execution_count": null,
   "metadata": {
    "colab": {
     "base_uri": "https://localhost:8080/",
     "height": 444
    },
    "id": "7xf9fF5OuB_K",
    "outputId": "ca3bc8dc-4b12-49b6-b7a2-a01d965d8e11"
   },
   "outputs": [],
   "source": [
    "# Defining posterior distribution\n",
    "laplace_posterior = np.random.multivariate_normal(\n",
    "    w_map.detach()\n",
    "    .numpy()\n",
    "    .reshape(\n",
    "        2,\n",
    "    ),\n",
    "    Sigma_laplace.detach().numpy(),\n",
    "    NB_SAMPLES,\n",
    ")\n",
    "\n",
    "# Plotting results\n",
    "fig, ax = plt.subplots(figsize=(7, 7))\n",
    "plot_decision_boundary(\n",
    "    net,\n",
    "    X,\n",
    "    y,\n",
    "    epoch,\n",
    "    ((output.squeeze() >= 0.5) == y).float().mean(),\n",
    "    model_type=\"laplace\",\n",
    "    tloc=TEXT_LOCATION,\n",
    "    nsamples=NB_SAMPLES,\n",
    "    posterior=laplace_posterior,\n",
    ")"
   ]
  },
  {
   "cell_type": "markdown",
   "metadata": {
    "id": "qUPjVjot4IKE"
   },
   "source": [
    "**[Question 1.2]: Analyze the results provided by previous plot. Compared to previous MAP estimate, how does the predictive distribution behave?**"
   ]
  },
  {
   "cell_type": "markdown",
   "metadata": {
    "id": "qgNFac420Nh_"
   },
   "source": [
    "### I.3 Variational Inference"
   ]
  },
  {
   "cell_type": "markdown",
   "metadata": {
    "id": "wuJcY6rMa7Ff"
   },
   "source": [
    "In this part, we will reimplement variational inference by hand with Pytorch tools. <br/><br/>\n",
    "\n",
    "**Optimization problem**  \n",
    "We define an approximating variational distribution $q_{\\pmb{\\theta}}(\\pmb{w})$ parametrized by $\\pmb{\\theta}$ and minimize its Kullback-Leibler (KL) divergence with the unknown true posterior $p(\\pmb{w} \\vert \\mathcal{D})$. This is equivalent to maximizing the **evidence lower bound (ELBO)** w.r.t to $q_{\\pmb{\\theta}}(\\pmb{w})$:\n",
    "\n",
    "$$ arg \\max_{\\pmb{\\theta}}~ \\mathbb{E}_{q_{\\pmb{\\theta}}(\\pmb{w})} \\big [\\underbrace{\\log p(\\mathcal{D} \\vert \\pmb{w})}_{likelihood} \\big ] - \\underbrace{\\textrm{KL}(q_{\\pmb{\\theta}}(\\pmb{w})\\vert\\vert p(\\pmb{w}))}_{regularization} $$\n",
    "where we have a likelihood term  and the KL divergence between the prior and the variational distribution.\n",
    "\n",
    "Let’s first rewrite the KL-divergence term:\n",
    "$$ \\textrm{KL}(q_{\\pmb{\\theta}}(\\pmb{w})\\vert\\vert p(\\pmb{w})) = \\int q_{\\pmb{\\theta}} \\log \\frac{q_{\\pmb{\\theta}}(\\pmb{w})}{p(\\pmb{w})}d\\pmb{w} = \\mathbb{E}_{q_{\\pmb{\\theta}}(\\pmb{w})}\\big [\\log q_{\\pmb{\\theta}}(\\pmb{w}) - \\log p(\\pmb{w})\\big ] $$\n",
    "As for the likelihood term, the KL-divergence can be written as an expectation over the approximate distribution $q_{\\pmb{\\theta}}(\\pmb{w})$.\n",
    "\n",
    "By assuming that samples are *i.i.d*, maximizing the ELBO is equivalent to minimizing the following loss:\n",
    "$$ \\mathcal{L}_{\\textrm{VI}}(\\pmb{\\theta}; \\mathcal{D}) = - \\sum_{n=1}^N \\mathbb{E}_{q_{\\pmb{\\theta}}(\\pmb{w})} \\Big [ \\log p(y_n \\vert \\pmb{x}_n, \\pmb{w}) + \\frac{1}{N} \\big ( \\log q_{\\pmb{\\theta}}(\\pmb{w}) - \\log p(\\pmb{w}) \\big ) \\Big ] $$\n",
    "The KL-divergence is not dependent on $\\mathcal{D}$, and can therefore be computed at the moment of sampling $\\pmb{w}$. <br/><br/>\n",
    "\n",
    "**Monte Carlo estimator**  \n",
    "Deriving those expectations can be some tedious mathematics, or maybe not even possible. Luckily we can get estimates of the mean by taking samples from $q_{\\pmb{\\theta}}(\\pmb{w})$ and average over those results.\n",
    "\n",
    "Even more simple, we can show that using only one sample is stil an unbiased gradient estimator. Hence, loss function simply boils down to minimzing at each step:\n",
    "\n",
    "$$ \\mathcal{L}_{\\textrm{VI}}(\\pmb{\\theta}; \\mathcal{D}) = - \\sum_{n=1}^N \\Big ( \\log p(y_n \\vert \\pmb{x}_n, \\pmb{w}_s) + \\frac{1}{N} \\big ( \\log q_{\\pmb{\\theta}}(\\pmb{w}_s) - \\log p(\\pmb{w}_s) \\big ) \\Big )$$\n",
    "where $\\pmb{w}_s \\sim q_{\\pmb{\\theta}}$ is a sample from the variational distribution. <br/><br/>\n",
    "\n",
    "**Mean-field approximation**  \n",
    "For simplicity, we assume a factorisation over the weights on each layer:\n",
    "$$ q_{\\pmb{\\theta}}(\\pmb{w}) = \\prod_{l=1}^L q_{\\pmb{\\theta}}(\\pmb{W}_l) = \\prod_{l=1}^L \\mathcal{N}(\\pmb{W}_l; \\pmb{\\mu}_l, \\pmb{\\Sigma}^2_l) $$\n",
    "As we chose a Gaussian prior $p(\\pmb{W}_l)$, we also defined here $q_{\\pmb{\\theta}}(\\pmb{W}_l)$ as a Gaussian distribution for its conjugate properties.For modelisation purposes, we take $q_{\\pmb{\\theta}}(\\pmb{W}_l)$ to be isotropic, i.e. $\\pmb{\\Sigma}_l$ is diagonal.\n",
    "<br/><br/>\n",
    "\n",
    "**Reparametrization trick**  \n",
    "If we start taking samples from $q_{\\pmb{\\theta}}$, we leave the deterministic world, and the gradient can not flow through the model anymore. We avoid this problem by reparameterizing the samples $\\pmb{w}_{l,s} \\sim \\mathcal{N}(\\pmb{\\mu}_{l}, \\pmb{\\Sigma}_{l}^2)$ from the distribution.\n",
    "\n",
    "Instead of sampling directly from the variational distribution, we sample from a centered isotropic multivariate Gaussian and recreate samples from the variational distribution. Now the stochasticity of $\\pmb{\\varepsilon}$ is external and will not prevent the flow of gradients.\n",
    "$$ \\pmb{w}_{l,s} = \\pmb{\\mu}_{l}+ \\pmb{\\Sigma}_{l}\\odot\\pmb{\\varepsilon}_s$$\n",
    "where $\\pmb{\\varepsilon}_s \\sim \\mathcal{N}(0,\\pmb{I}_l)$, with $\\pmb{I}_l \\in \\mathbb{R}^l$ the identity vector of size $l$.\n",
    "<br/><br/>  \n",
    "\n",
    "**Predictive distribution**  \n",
    "For a new sample $\\pmb{x^*}$, the predictive distribution can be approximated using **Monte Carlo sampling**:\n",
    "\\begin{equation}\n",
    "p(\\mathbf{y} =1|\\pmb{x}^*,\\mathcal{D}) \\approx \\int p(\\mathbf{y} = 1|x^*,w)q_\\theta^*(w) \\approx \\frac{1}{S} \\sum_{s=1}^S p(\\mathbf{y}=1|\\pmb{x}^*,\\pmb{w}_s)\n",
    "\\end{equation}\n",
    "where $\\pmb{w}_s \\sim q^*_{\\pmb{\\theta}}$ are samples from the optimum variational distribution."
   ]
  },
  {
   "cell_type": "markdown",
   "metadata": {
    "id": "H2eNammRvajL"
   },
   "source": [
    "#### Step 1: Implement a variational layer\n",
    "\n",
    "Let's first implement variational inference for a single layer. Remind that we defined our Logistic regression model as $f(x) = \\sigma(w^T x + b)$ where $\\sigma(t)= \\frac{1}{1+\\exp(t)}$ is the sigmoid function. As such, we need to place Gaussian distributions on parameters $w$ and $b$.  \n",
    "\n",
    "**Implementation constraint** Variance can not be negative. To avoid numerical issues, we will use $\\pmb{\\rho}$. Std can be retrieve with the following formula:\n",
    "$$ \\pmb{\\Sigma} = \\log(1 + e^{\\pmb{\\rho}}) $$ "
   ]
  },
  {
   "cell_type": "code",
   "execution_count": null,
   "metadata": {
    "id": "Vb6ofPETDZOb"
   },
   "outputs": [],
   "source": [
    "# @title **[CODING TASK]** Implement a variational layer from scratch\n",
    "\n",
    "\n",
    "class LinearVariational(nn.Module):\n",
    "    \"\"\"\n",
    "    Mean field approximation of nn.Linear\n",
    "    \"\"\"\n",
    "\n",
    "    def __init__(self, input_size, output_size, accumulated_kl_div):\n",
    "        super().__init__()\n",
    "        self.accumulated_kl_div = accumulated_kl_div\n",
    "\n",
    "        # ============ YOUR CODE HERE ============\n",
    "        # Initialize the variational parameters for weight and bias\n",
    "        # with nn.Parameter.\n",
    "        # Mean should be initialised to zeros and rho to ones\n",
    "        self.w_mu = torch.nn.Parameter(torch.zeros(input_size, output_size))\n",
    "        self.w_rho = torch.nn.Parameter(torch.ones(input_size, output_size))\n",
    "        self.b_mu = torch.nn.Parameter(torch.zeros(output_size))\n",
    "        self.b_rho = torch.nn.Parameter(torch.ones(output_size))\n",
    "\n",
    "    def sampling(self, mu, rho):\n",
    "        \"Sample weights using the reparametrization trick\"\n",
    "        # ============ YOUR CODE HERE ============\n",
    "        # Given parameter mu and rho, return sampling using\n",
    "        # the reparametrization trick.\n",
    "        # NB: you may look for torch.randn_like...\n",
    "        sigma = torch.log(1 + torch.exp(rho))\n",
    "        epsilon = torch.randn_like(rho)\n",
    "        return mu + sigma * epsilon\n",
    "\n",
    "    def kl_divergence(self, z, mu_theta, rho_theta, prior_sd=1):\n",
    "        \"Computing the KL-divergence term for these weight's parameters\"\n",
    "        log_prior = dist.Normal(0, prior_sd).log_prob(z)\n",
    "        log_p_q = dist.Normal(mu_theta, torch.log(1 + torch.exp(rho_theta))).log_prob(z)\n",
    "        return (log_p_q - log_prior).sum() / X.shape[0]\n",
    "\n",
    "    def forward(self, x):\n",
    "        \"Usual forward function for pytorch layer\"\n",
    "        # ============ YOUR CODE HERE ============\n",
    "        # Sample parameters w and b using self.sampling\n",
    "        # Then, perform a forward pass using those sampled parameters\n",
    "        w = self.sampling(self.w_mu, self.w_rho)\n",
    "        b = self.sampling(self.b_mu, self.b_rho)\n",
    "\n",
    "        out = x @ w + b\n",
    "\n",
    "        # Compute KL-div loss for training\n",
    "        self.accumulated_kl_div[0] += self.kl_divergence(w, self.w_mu, self.w_rho)\n",
    "        self.accumulated_kl_div[0] += self.kl_divergence(b, self.b_mu, self.b_rho)\n",
    "\n",
    "        return out"
   ]
  },
  {
   "cell_type": "markdown",
   "metadata": {
    "id": "mLazbzY0bIjw"
   },
   "source": [
    "#### Step 2: Variational Logistic Regression\n",
    "\n",
    "Now, let's use this `LinearVariational` layer in a Logistic regression model."
   ]
  },
  {
   "cell_type": "code",
   "execution_count": null,
   "metadata": {
    "id": "pYGaD-CaD-Zt"
   },
   "outputs": [],
   "source": [
    "class VariationalLogisticRegression(nn.Module):\n",
    "    def __init__(self, input_size):\n",
    "        super().__init__()\n",
    "        self.accumulated_kl_div = np.zeros(1)\n",
    "        self.fc_var = LinearVariational(input_size, 1, self.accumulated_kl_div)\n",
    "\n",
    "    def reset_kl_div(self):\n",
    "        self.accumulated_kl_div[0] = 0\n",
    "\n",
    "    def forward(self, x):\n",
    "        out = self.fc_var(x)\n",
    "        return torch.sigmoid(out)\n",
    "\n",
    "\n",
    "def elbo(input, target, model):\n",
    "    negative_log_likelihood = -dist.Binomial(logits=input).log_prob(target).sum()\n",
    "    return negative_log_likelihood + model.accumulated_kl_div[0] / input.shape[0]"
   ]
  },
  {
   "cell_type": "markdown",
   "metadata": {
    "id": "tlRYhjTXxbvy"
   },
   "source": [
    "We can now train our variational model as any other network in Pytorch"
   ]
  },
  {
   "cell_type": "code",
   "execution_count": null,
   "metadata": {
    "colab": {
     "base_uri": "https://localhost:8080/",
     "height": 444
    },
    "id": "Zpq1SuhvD-0Y",
    "outputId": "bd9af174-4c3d-4fe8-885b-e5012cad4ed8"
   },
   "outputs": [],
   "source": [
    "var_net = VariationalLogisticRegression(input_size=X.shape[1])\n",
    "var_net.train()\n",
    "optimizer = torch.optim.Adam(var_net.parameters(), lr=0.1, weight_decay=WEIGHT_DECAY)\n",
    "fig, ax = plt.subplots(figsize=(7, 7))\n",
    "\n",
    "for epoch in range(30):  # loop over the dataset multiple times\n",
    "    # zero the parameter gradients\n",
    "    optimizer.zero_grad()\n",
    "    var_net.reset_kl_div()\n",
    "\n",
    "    # forward + backward + optimize\n",
    "    output = var_net(X).squeeze()\n",
    "    loss = elbo(output, y, var_net)\n",
    "    loss.backward()\n",
    "    optimizer.step()\n",
    "\n",
    "    # Computing prediction for visualization purpose\n",
    "    preds = torch.zeros(NB_SAMPLES, X.shape[0], 1)\n",
    "    for i in range(NB_SAMPLES):\n",
    "        preds[i] = var_net(X)\n",
    "    pred = preds.mean(0).squeeze()\n",
    "    accuracy = ((pred >= 0.5) == y).float().mean()\n",
    "\n",
    "    print(type(y))\n",
    "    print(\"length =\", accuracy.size)\n",
    "    print(\"sum =\", torch.sum(accuracy))\n",
    "\n",
    "    # For plotting and showing learning process at each epoch\n",
    "    plot_decision_boundary(\n",
    "        var_net, X, y, epoch, accuracy, model_type=\"vi\", tloc=TEXT_LOCATION\n",
    "    )"
   ]
  },
  {
   "cell_type": "code",
   "execution_count": null,
   "metadata": {
    "colab": {
     "base_uri": "https://localhost:8080/"
    },
    "id": "99rjA4XZaFNy",
    "outputId": "f89a0031-e424-4083-b8ec-7c62f8bdf3b0"
   },
   "outputs": [],
   "source": [
    "vec = pred >= 0.5\n",
    "\n",
    "print(type(vec))\n",
    "print(\"length =\", vec.size(0))\n",
    "print(\"sum =\", torch.sum(vec))"
   ]
  },
  {
   "cell_type": "markdown",
   "metadata": {
    "id": "fRbXTWZU48w6"
   },
   "source": [
    "**[Question 1.3]: Analyze the results provided by previous plot. Compared to previous MAP estimate, how does the predictive distribution behave?**"
   ]
  },
  {
   "cell_type": "markdown",
   "metadata": {
    "id": "uZV6pC6v7Bqh"
   },
   "source": [
    "## Part II: Bayesian Neural Networks\n"
   ]
  },
  {
   "cell_type": "markdown",
   "metadata": {
    "id": "-pqscdtHyT97"
   },
   "source": [
    "Moving on to a non-linear dataset, we will leverage our variational implementation to a Multi-Layer Perceptron (MLP). Finally, we will also review one last approximate inference method which has the particularity to be very easy to implement: Monte-Carlo Dropout"
   ]
  },
  {
   "cell_type": "markdown",
   "metadata": {
    "id": "_g0QmYJ7WJ8p"
   },
   "source": [
    "### II.0 Dataset"
   ]
  },
  {
   "cell_type": "code",
   "execution_count": null,
   "metadata": {
    "cellView": "form",
    "id": "NVUva--mk2jk"
   },
   "outputs": [],
   "source": [
    "# @title Hyperparameters for model and approximate inference { form-width: \"30%\" }\n",
    "\n",
    "NOISE_MOON = 0.05  # @param\n",
    "WEIGHT_DECAY = 5e-2  # @param\n",
    "NB_SAMPLES = 100  # @param\n",
    "TEXT_LOCATION = (-1.5, -1.5)"
   ]
  },
  {
   "cell_type": "code",
   "execution_count": null,
   "metadata": {
    "colab": {
     "base_uri": "https://localhost:8080/",
     "height": 265
    },
    "id": "FjIhWLPrkVdp",
    "outputId": "ad8ab484-e6eb-43d4-f12e-ab5f0d9d8555"
   },
   "outputs": [],
   "source": [
    "# Load two moons dataset\n",
    "X, y = make_moons(n_samples=1000, noise=NOISE_MOON)\n",
    "X, y = torch.from_numpy(X), torch.from_numpy(y)\n",
    "X, y = X.type(torch.float), y.type(torch.float)\n",
    "torch_train_dataset = data.TensorDataset(X, y)  # create your datset\n",
    "train_dataloader = data.DataLoader(\n",
    "    torch_train_dataset, batch_size=len(torch_train_dataset)\n",
    ")\n",
    "N_DIM = X.shape[1]\n",
    "\n",
    "# Visualize dataset\n",
    "plt.scatter(X[:, 0], X[:, 1], c=y, cmap=\"Paired_r\", edgecolors=\"k\")\n",
    "plt.show()"
   ]
  },
  {
   "cell_type": "markdown",
   "metadata": {
    "id": "s0rMZBLxbHY9"
   },
   "source": [
    "### II.1 Variational Inference with Bayesian Neural Networks"
   ]
  },
  {
   "cell_type": "markdown",
   "metadata": {
    "id": "XV8BP1t1yuu1"
   },
   "source": [
    "Such as for Logistic Regression, we will use `LinearVariational` layer to define a MLP with 1 hidden layer.\n",
    "\n",
    "\n",
    "\n"
   ]
  },
  {
   "cell_type": "code",
   "execution_count": null,
   "metadata": {
    "id": "PCOP9aDQo7zh"
   },
   "outputs": [],
   "source": [
    "# @title **[CODING TASK]** Implement a Variational MLP\n",
    "\n",
    "\n",
    "class VariationalMLP(nn.Module):\n",
    "    def __init__(self, input_size, hidden_size):\n",
    "        super().__init__()\n",
    "        self.accumulated_kl_div = np.zeros(1)\n",
    "\n",
    "        # ============ YOUR CODE HERE ============\n",
    "        # Define a variational MLP with 1 hidden layer and ReLU activation\n",
    "        self.layer = nn.Sequential(\n",
    "            LinearVariational(input_size, hidden_size, self.accumulated_kl_div),\n",
    "            torch.nn.ReLU(),\n",
    "            LinearVariational(hidden_size, 1, self.accumulated_kl_div),\n",
    "        )\n",
    "\n",
    "    def reset_kl_div(self):\n",
    "        self.accumulated_kl_div[0] = 0\n",
    "\n",
    "    def forward(self, x):\n",
    "        # ============ YOUR CODE HERE ============\n",
    "        # Don't forget to apply the sigmoid function when returning the output\n",
    "        return torch.sigmoid(self.layer(x))"
   ]
  },
  {
   "cell_type": "markdown",
   "metadata": {
    "id": "be7NXnFs0AmB"
   },
   "source": [
    "We can now train our variational model as any other network in Pytorch"
   ]
  },
  {
   "cell_type": "code",
   "execution_count": null,
   "metadata": {
    "colab": {
     "base_uri": "https://localhost:8080/",
     "height": 444
    },
    "id": "ar5ZX1SfpdgV",
    "outputId": "b0ea4583-346f-4ec4-ee6e-11a24f6b9f80"
   },
   "outputs": [],
   "source": [
    "var_net = VariationalMLP(input_size=X.shape[1], hidden_size=50)\n",
    "var_net.train()\n",
    "optimizer = torch.optim.Adam(var_net.parameters(), lr=0.1, weight_decay=WEIGHT_DECAY)\n",
    "fig, ax = plt.subplots(figsize=(7, 7))\n",
    "\n",
    "for epoch in range(1000):  # loop over the dataset multiple times\n",
    "    # zero the parameter gradients\n",
    "    optimizer.zero_grad()\n",
    "    var_net.reset_kl_div()\n",
    "\n",
    "    # forward + backward + optimize\n",
    "    output = var_net(X).squeeze()\n",
    "    loss = elbo(output, y, var_net)\n",
    "    loss.backward()\n",
    "    optimizer.step()\n",
    "\n",
    "    # For plotting and showing learning process at each epoch\n",
    "    if (epoch + 1) % 50 == 0:\n",
    "        # Computing prediction for visualization purpose\n",
    "        preds = torch.zeros(NB_SAMPLES, X.shape[0], 1)\n",
    "        for i in range(NB_SAMPLES):\n",
    "            preds[i] = var_net(X)\n",
    "        pred = preds.mean(0).squeeze()\n",
    "        accuracy = ((pred >= 0.5) == y).float().mean()\n",
    "\n",
    "        plot_decision_boundary(\n",
    "            var_net, X, y, epoch, accuracy, model_type=\"vi\", tloc=TEXT_LOCATION\n",
    "        )"
   ]
  },
  {
   "cell_type": "markdown",
   "metadata": {
    "id": "3i_scDA7bC1c"
   },
   "source": [
    "### II.2 Monte Carlo Dropout"
   ]
  },
  {
   "cell_type": "markdown",
   "metadata": {
    "id": "O8J9UNT41TJ2"
   },
   "source": [
    "Training a neural network with randomly dropping some activations, such as with dropout layers, can actually be seen as an **approximate variational inference method**!\n",
    "\n",
    "[Gal and Ghahramani, 2016] showed this can be fullfilled for:\n",
    "- $p(\\pmb{w}) = \\prod_l p(\\pmb{W}_l) = \\prod_l \\mathcal{MN}(\\pmb{W}_l; 0, I/ l_i^2, I)$ $\\Rightarrow$ Multivariate Gaussian distribution factorized over layers\n",
    "- $q(\\pmb{w}) = \\prod_l q(\\pmb{W}_l) = \\prod_l \\textrm{diag}(\\varepsilon_l)\\odot\\pmb{M}_l $ with $\\varepsilon_l \\sim \\textrm{Ber}(1-p_l)$.\n",
    "\n",
    "We will now implement a MLP with dropout layers and perform Monte-Carlo sampling to obtain the predictive distribution $p(\\mathbf{y} \\vert \\pmb{x}^*, \\pmb{w})$ for a new sample $\\pmb{x}^*$."
   ]
  },
  {
   "cell_type": "code",
   "execution_count": null,
   "metadata": {
    "id": "xxGmkjd0kVgZ"
   },
   "outputs": [],
   "source": [
    "# @title **[CODING TASK]** Implement a MLP with dropout (p=0.2)\n",
    "# Code MLP with 1 hidden layer and a dropout layer. Be careful, the dropout\n",
    "# layer should be also activated during test time.\n",
    "# (Hint: we may want to look out at F.dropout())\n",
    "\n",
    "class MLP(nn.Module):\n",
    "    \"\"\"Pytorch MLP for binary classification model with an added dropout layer\"\"\"\n",
    "\n",
    "    def __init__(self, input_size, hidden_size):\n",
    "        super().__init__()\n",
    "        # ============ YOUR CODE HERE ============\n",
    "        self.fc1 = nn.Linear(input_size, hidden_size)\n",
    "        self.fc2 = nn.Linear(hidden_size, 1)\n",
    "        self.activation_function = nn.ReLU()\n",
    "\n",
    "    def forward(self, x):\n",
    "        # ============ YOUR CODE HERE ============\n",
    "        # Don't forget to apply the sigmoid function when returning the output\n",
    "        out = self.fc1(x)\n",
    "        out = self.activation_function(out)\n",
    "\n",
    "        out = F.dropout(out, p=0.2, training=self.training)\n",
    "        out = self.fc2(out)\n",
    "\n",
    "        return torch.sigmoid(out)"
   ]
  },
  {
   "cell_type": "markdown",
   "metadata": {
    "id": "qMlasuRN08Yk"
   },
   "source": [
    "We train our model as usual:"
   ]
  },
  {
   "cell_type": "code",
   "execution_count": null,
   "metadata": {
    "colab": {
     "base_uri": "https://localhost:8080/",
     "height": 444
    },
    "id": "gqSZJDWIlf5e",
    "outputId": "08c2b5d5-dd1c-4a57-f8dc-fec5afe420c9"
   },
   "outputs": [],
   "source": [
    "net = MLP(input_size=X.shape[1], hidden_size=50)\n",
    "net.train()\n",
    "criterion = nn.BCELoss()\n",
    "optimizer = torch.optim.Adam(net.parameters(), lr=0.01)\n",
    "fig, ax = plt.subplots(figsize=(7, 7))\n",
    "\n",
    "for epoch in range(500):  # loop over the dataset multiple times\n",
    "    # zero the parameter gradients\n",
    "    optimizer.zero_grad()\n",
    "\n",
    "    # forward + backward + optimize\n",
    "    output = net(X).squeeze()\n",
    "    loss = criterion(output, y)\n",
    "    loss.backward()\n",
    "    optimizer.step()\n",
    "\n",
    "    # For plotting and showing learning process at each epoch, uncomment and indent line below\n",
    "    if (epoch + 1) % 50 == 0:\n",
    "        plot_decision_boundary(\n",
    "            net,\n",
    "            X,\n",
    "            y,\n",
    "            epoch,\n",
    "            ((output.squeeze() >= 0.5) == y).float().mean(),\n",
    "            tloc=TEXT_LOCATION,\n",
    "            model_type=\"classic\",\n",
    "        )"
   ]
  },
  {
   "cell_type": "markdown",
   "metadata": {
    "id": "U_RyglMRa4d5"
   },
   "source": [
    "Now let's look at the results given by MC Dropout:"
   ]
  },
  {
   "cell_type": "code",
   "execution_count": null,
   "metadata": {
    "colab": {
     "base_uri": "https://localhost:8080/",
     "height": 444
    },
    "id": "JRh6BQDcazFx",
    "outputId": "ce1d42e3-c43e-4482-c32e-654e0915e34c"
   },
   "outputs": [],
   "source": [
    "fig, ax = plt.subplots(figsize=(7, 7))\n",
    "plot_decision_boundary(\n",
    "    net,\n",
    "    X,\n",
    "    y,\n",
    "    epoch,\n",
    "    ((output.squeeze() >= 0.5) == y).float().mean(),\n",
    "    tloc=TEXT_LOCATION,\n",
    "    model_type=\"mcdropout\",\n",
    ")"
   ]
  },
  {
   "cell_type": "markdown",
   "metadata": {
    "id": "05OBuwko5EvS"
   },
   "source": [
    "**[Question 2.1]: Again, analyze the results showed on plot. What is the benefit of MC Dropout variational inference over Bayesian Logistic Regression with variational inference?**"
   ]
  }
 ],
 "metadata": {
  "accelerator": "GPU",
  "colab": {
   "provenance": []
  },
  "kernelspec": {
   "display_name": "Python 3 (ipykernel)",
   "language": "python",
   "name": "python3"
  },
  "language_info": {
   "codemirror_mode": {
    "name": "ipython",
    "version": 3
   },
   "file_extension": ".py",
   "mimetype": "text/x-python",
   "name": "python",
   "nbconvert_exporter": "python",
   "pygments_lexer": "ipython3",
   "version": "3.8.10"
  }
 },
 "nbformat": 4,
 "nbformat_minor": 1
}
