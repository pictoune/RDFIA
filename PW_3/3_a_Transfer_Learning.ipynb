{
 "cells": [
  {
   "cell_type": "markdown",
   "metadata": {
    "id": "PbzBJ1m9FBBb"
   },
   "source": [
    "# Warning : \n",
    "# Do \"File -> Save a copy in Drive\" before you start modifying the notebook, otherwise your modifications will not be saved.\n"
   ]
  },
  {
   "cell_type": "markdown",
   "metadata": {
    "id": "aO2MIqZcrhCQ"
   },
   "source": [
    "Avant de commencer le TP, vérifiez que vous êtes sur un environnement GPU et python 3 : \n",
    "\n",
    "Exécution -> Modifier le type d'exécution -> Type d'exécution = python2, Accélerateur matériel = GPU"
   ]
  },
  {
   "cell_type": "code",
   "execution_count": null,
   "metadata": {
    "id": "hubU7zZbAz4a"
   },
   "outputs": [],
   "source": [
    "from PIL import Image\n",
    "\n",
    "import numpy as np\n",
    "import torchvision\n",
    "import pickle\n",
    "\n",
    "import torch\n",
    "import torch.nn as nn\n",
    "import torch.nn.parallel\n",
    "import torch.backends.cudnn as cudnn\n",
    "import torch.utils.data\n",
    "import torchvision.datasets as datasets\n",
    "import torchvision.models as models\n",
    "import torchvision.transforms as transforms\n",
    "import matplotlib.pyplot as plt\n",
    "\n",
    "from sklearn.svm import LinearSVC"
   ]
  },
  {
   "cell_type": "markdown",
   "metadata": {
    "id": "Ofov1WtQ64_p"
   },
   "source": [
    "# Partie 1 : Architecture VGG16"
   ]
  },
  {
   "cell_type": "code",
   "execution_count": null,
   "metadata": {
    "colab": {
     "base_uri": "https://localhost:8080/"
    },
    "id": "4eQjntfb5wI0",
    "outputId": "74df5372-bdcb-4e23-fc30-90375df93874"
   },
   "outputs": [],
   "source": [
    "#!wget https://github.com/cdancette/deep-learning-polytech-tp6-7/raw/master/tp8/imagenet_classes.pkl\n",
    "!wget https://github.com/rdfia/rdfia.github.io/raw/master/data/3-a/imagenet_classes.pkl\n",
    "\n",
    "# Bonus : Classifiez des exemples avec vgg16 et commentez le résultat dans votre rapport.\n",
    "!wget --content-disposition https://unsplash.com/photos/gKXKBY-C-Dk/download?force=true -O cat.jpg\n",
    "!wget --content-disposition https://unsplash.com/photos/qO-PIF84Vxg/download?force=true -O dog.jpg"
   ]
  },
  {
   "cell_type": "code",
   "execution_count": null,
   "metadata": {
    "colab": {
     "base_uri": "https://localhost:8080/",
     "height": 512,
     "referenced_widgets": [
      "3d6c541769624370b3ccd9d4df42d553",
      "5c7635daba544c9a84b98a96a79df8ab",
      "f68978a9f5e74ed5be94ddcedaee9c8d",
      "e8b615e1d0fe425e99443e5e06ce7e27",
      "84b7c6d4f27849f3b8683acbcebfa5c6",
      "250cc43aa6c24815afd49137d1ee736e",
      "0c3bc23650b24397b51708f094d353c2",
      "baf72d30b7114aeead132340f2661f0c",
      "75bdcba7bbfc44f09421b5d9578a05c3",
      "19f7a9e020ec49db8d3bbe3fba8fdb5e",
      "4ea2772c4bbb40a8b3f0f538af55d1ae"
     ]
    },
    "id": "SASS6-LO6dmA",
    "outputId": "c4b809a0-6f41-4111-fbc5-11328ac54d85"
   },
   "outputs": [],
   "source": [
    "cat = Image.open(\"cat.jpg\")\n",
    "plt.imshow(cat)\n",
    "\n",
    "# dog = Image.open('dog.jpg')\n",
    "# plt.imshow(dog)\n",
    "\n",
    "# Ajoutez vos images\n",
    "# VOTRE CODE ICI pour le bonus:\n",
    "\n",
    "vgg16 = torchvision.models.vgg16(pretrained=True)\n",
    "\n",
    "imagenet_classes = pickle.load(\n",
    "    open(\"imagenet_classes.pkl\", \"rb\")\n",
    ")  # chargement des classes\n",
    "img = Image.open(\"cat.jpg\")\n",
    "img = img.resize((224, 224), Image.BILINEAR)\n",
    "img = np.array(img, dtype=np.float32) / 255\n",
    "img = img.transpose((2, 0, 1))\n",
    "\n",
    "img = np.expand_dims(img, 0)\n",
    "x = torch.Tensor(img)\n",
    "transform = torchvision.transforms.Compose(\n",
    "    [\n",
    "        torchvision.transforms.Normalize(\n",
    "            mean=[0.485, 0.456, 0.406], std=[0.229, 0.224, 0.225]\n",
    "        ),\n",
    "    ]\n",
    ")\n",
    "x = transform(x)\n",
    "y = vgg16(x).detach()  # TODO calcul forward\n",
    "y = y.numpy()  # transformation en array numpy\n",
    "\n",
    "indices_top_5 = [\n",
    "    i[0] for i in sorted(enumerate(y[0]), key=lambda k: k[1], reverse=True)\n",
    "]\n",
    "indices_top_5 = indices_top_5[:5]\n",
    "\n",
    "print(\"   Top 5:\")\n",
    "\n",
    "for idx in indices_top_5:\n",
    "    print(\"       \", imagenet_classes[idx], \":\", y[0][idx])"
   ]
  },
  {
   "cell_type": "code",
   "execution_count": null,
   "metadata": {
    "colab": {
     "base_uri": "https://localhost:8080/"
    },
    "id": "LZJL0jlLHob-",
    "outputId": "4ce435a5-58ae-433c-b5c9-91f0491d97e6"
   },
   "outputs": [],
   "source": [
    "print(imagenet_classes)"
   ]
  },
  {
   "cell_type": "code",
   "execution_count": null,
   "metadata": {
    "colab": {
     "base_uri": "https://localhost:8080/",
     "height": 1000
    },
    "id": "84WGFOsvWhI3",
    "outputId": "0b298c70-644d-4d4a-9636-650842f5303a"
   },
   "outputs": [],
   "source": [
    "model = vgg16.features\n",
    "map = model[0](x)\n",
    "cat = Image.open(\"cat.jpg\")\n",
    "\n",
    "for i in range(map.shape[1]):\n",
    "    fig, (ax1, ax2) = plt.subplots(1, 2, figsize=(12, 6))\n",
    "    ax1.imshow(map.detach().numpy()[0][i], cmap=\"gray\")\n",
    "    ax1.title.set_text(\"Activation map n°\" + str(i + 1) + \"/\" + str(map.shape[1]))\n",
    "    ax2.imshow(cat, cmap=\"gray\")\n",
    "    ax2.title.set_text(\"Original image\")\n",
    "    plt.show()"
   ]
  },
  {
   "cell_type": "markdown",
   "metadata": {
    "id": "tGqz4imdtQTh"
   },
   "source": [
    "**Test with an image from the COCO dataset:**"
   ]
  },
  {
   "cell_type": "code",
   "execution_count": null,
   "metadata": {
    "colab": {
     "base_uri": "https://localhost:8080/",
     "height": 796
    },
    "id": "DYzfAOjBrldp",
    "outputId": "5666e0e3-c1aa-41a8-b7b5-956ae448b67a"
   },
   "outputs": [],
   "source": [
    "img = Image.open(\"coco.jpg\")\n",
    "plt.figure(figsize=(12, 20))\n",
    "plt.imshow(img)\n",
    "plt.show()\n",
    "\n",
    "img = img.resize((224, 224), Image.BILINEAR)\n",
    "img = np.array(img, dtype=np.float32) / 255\n",
    "img = img.transpose((2, 0, 1))\n",
    "img = np.expand_dims(img, 0)\n",
    "\n",
    "x = torch.Tensor(img)\n",
    "x = transform(x)\n",
    "y = vgg16(x).detach()  # TODO calcul forward\n",
    "y = y.numpy()  # transformation en array numpy\n",
    "\n",
    "indices_top_15 = [\n",
    "    i[0] for i in sorted(enumerate(y[0]), key=lambda k: k[1], reverse=True)\n",
    "]\n",
    "indices_top_15 = indices_top_15[:15]\n",
    "\n",
    "print(\"   Top 15:\")\n",
    "\n",
    "for idx in indices_top_15:\n",
    "    print(\"       \", imagenet_classes[idx], \":\", y[0][idx])"
   ]
  },
  {
   "cell_type": "markdown",
   "metadata": {
    "id": "dqOubNm8VwfB"
   },
   "source": [
    "**Test with an image of a brown bear, which is a class present in ImageNet:**"
   ]
  },
  {
   "cell_type": "code",
   "execution_count": null,
   "metadata": {
    "colab": {
     "base_uri": "https://localhost:8080/",
     "height": 720
    },
    "id": "2DvDXbAtJW4w",
    "outputId": "a24f07e4-d131-4667-8496-fe6a5af7f6c7"
   },
   "outputs": [],
   "source": [
    "img = Image.open(\"brown_bear.png\")\n",
    "plt.figure(figsize=(12, 20))\n",
    "plt.imshow(img)\n",
    "plt.show()\n",
    "\n",
    "img = img.resize((224, 224), Image.BILINEAR)\n",
    "img = np.array(img, dtype=np.float32) / 255\n",
    "img = img.transpose((2, 0, 1))\n",
    "img = np.expand_dims(img, 0)\n",
    "\n",
    "x = torch.Tensor(img)\n",
    "\n",
    "x = transform(x)\n",
    "y = vgg16(x).detach()  # TODO calcul forward\n",
    "y = y.numpy()  # transformation en array numpy\n",
    "\n",
    "indices_top_15 = [\n",
    "    i[0] for i in sorted(enumerate(y[0]), key=lambda k: k[1], reverse=True)\n",
    "]\n",
    "indices_top_15 = indices_top_15[:15]\n",
    "\n",
    "print(\"   Top 15:\")\n",
    "\n",
    "for idx in indices_top_15:\n",
    "    print(\"       \", imagenet_classes[idx], \":\", y[0][idx])"
   ]
  },
  {
   "cell_type": "markdown",
   "metadata": {
    "id": "gfCCtQACV79u"
   },
   "source": [
    "**Test with an image of a duck which is a class present in ImageNet:**"
   ]
  },
  {
   "cell_type": "code",
   "execution_count": null,
   "metadata": {
    "colab": {
     "base_uri": "https://localhost:8080/",
     "height": 1000
    },
    "id": "gLUTYXpFQrPA",
    "outputId": "615600b3-f952-4012-e97f-d4c5efce55ca"
   },
   "outputs": [],
   "source": [
    "img = Image.open(\"concept_drift_small.png\")\n",
    "plt.figure(figsize=(12, 20))\n",
    "plt.imshow(img)\n",
    "plt.show()\n",
    "\n",
    "img = img.resize((224, 224), Image.BILINEAR)\n",
    "img = np.array(img, dtype=np.float32) / 255\n",
    "img = img.transpose((2, 0, 1))\n",
    "img = np.expand_dims(img, 0)\n",
    "\n",
    "x = torch.Tensor(img)\n",
    "\n",
    "x = transform(x)\n",
    "y = vgg16(x).detach()  # TODO calcul forward\n",
    "y = y.numpy()  # transformation en array numpy\n",
    "\n",
    "indices_top_15 = [\n",
    "    i[0] for i in sorted(enumerate(y[0]), key=lambda k: k[1], reverse=True)\n",
    "]\n",
    "indices_top_15 = indices_top_15[:15]\n",
    "\n",
    "print(\"   Top 15:\")\n",
    "\n",
    "for idx in indices_top_15:\n",
    "    print(\"       \", imagenet_classes[idx], \":\", y[0][idx])"
   ]
  },
  {
   "cell_type": "markdown",
   "metadata": {
    "id": "cQO8iQd26okS"
   },
   "source": [
    "# Partie 2: Transfer Learning avec VGG16 sur 15 Scene"
   ]
  },
  {
   "cell_type": "code",
   "execution_count": null,
   "metadata": {
    "colab": {
     "base_uri": "https://localhost:8080/"
    },
    "id": "vonhfnKF61bg",
    "outputId": "38e56ed8-b0a9-433e-dcfa-66e64c48e2a1"
   },
   "outputs": [],
   "source": [
    "#!wget https://github.com/cdancette/deep-learning-polytech-tp6-7/raw/master/tp8/15ScenesData.zip\n",
    "!wget https://github.com/rdfia/rdfia.github.io/raw/master/data/3-a/15ScenesData.zip\n",
    "\n",
    "!unzip 15ScenesData.zip"
   ]
  },
  {
   "cell_type": "code",
   "execution_count": null,
   "metadata": {
    "colab": {
     "base_uri": "https://localhost:8080/"
    },
    "id": "blP1Sj_0DXVd",
    "outputId": "3aceaf2a-1d66-4ba5-edac-df82b96ac3f2"
   },
   "outputs": [],
   "source": [
    "!ls 15SceneData/test/bedroom/    "
   ]
  },
  {
   "cell_type": "code",
   "execution_count": null,
   "metadata": {},
   "outputs": [],
   "source": [
    "from torchsummary import summary"
   ]
  },
  {
   "cell_type": "code",
   "execution_count": null,
   "metadata": {
    "id": "SiBtpwXCWLdy"
   },
   "outputs": [],
   "source": [
    "class VGG16relu7(nn.Module):\n",
    "  def __init__(self,layer_to_stop_at):\n",
    "    super(VGG16relu7, self).__init__()\n",
    "\n",
    "    # Copy the entire convolutional part\n",
    "    self.features = nn.Sequential( *list(vgg16.features.children())[:len(list(vgg16.features.children()))+3-layer_to_stop_at-1])\n",
    "\n",
    "    #summary(self.features, (3,224,224))\n",
    "    \n",
    "    # Keep a piece of the classifier: -2 to stop at relu7s\n",
    "    if(layer_to_stop_at in [1,2]):\n",
    "      self.classifier = nn.Sequential(*list(vgg16.classifier.children())[:-layer_to_stop_at])\n",
    "    elif(layer_to_stop_at == 0):\n",
    "      self.classifier = nn.Sequential(*list(vgg16.classifier.children()))     \n",
    "\n",
    "    self.layer_to_stop_at = layer_to_stop_at\n",
    "\n",
    "  def forward(self, x):\n",
    "    x = self.features(x)\n",
    "    x = x.view(x.size(0), -1)\n",
    "    \n",
    "    if(self.layer_to_stop_at in [0,1,2]):\n",
    "      x = self.classifier(x)\n",
    "\n",
    "    return x"
   ]
  },
  {
   "cell_type": "code",
   "execution_count": null,
   "metadata": {
    "id": "LVzlG0SIWLqt"
   },
   "outputs": [],
   "source": [
    "CUDA = True\n",
    "\n",
    "def get_dataset(batch_size, path):\n",
    "    # Cette fonction permet de recopier 3 fois une image qui\n",
    "    # ne serait que sur 1 channel (donc image niveau de gris)\n",
    "    # pour la \"transformer\" en image RGB. Utilisez la avec\n",
    "    # transform.Lambda\n",
    "    def duplicateChannel(img):\n",
    "        img = img.convert(\"L\")\n",
    "        np_img = np.array(img, dtype=np.uint8)\n",
    "        np_img = np.dstack([np_img, np_img, np_img])\n",
    "        img = Image.fromarray(np_img, \"RGB\")\n",
    "        return img\n",
    "\n",
    "    #####################\n",
    "    ## Votre code ici  ##\n",
    "    #####################\n",
    "    # Ajouter le pré-traitement\n",
    "    train_dataset = datasets.ImageFolder(\n",
    "        path + \"/train\",\n",
    "        transform=transforms.Compose(\n",
    "            [  # Pré-traitement à faire\n",
    "                transforms.Lambda(duplicateChannel),\n",
    "                transforms.ToTensor(),\n",
    "                transforms.Resize((224, 224)),\n",
    "                transforms.Normalize(\n",
    "                    mean=[0.485, 0.456, 0.406], std=[0.229, 0.224, 0.225]\n",
    "                ),\n",
    "            ]\n",
    "        ),\n",
    "    )\n",
    "    val_dataset = datasets.ImageFolder(\n",
    "        path + \"/test\",\n",
    "        transform=transforms.Compose(\n",
    "            [  # Pré-traitement à faire\n",
    "                transforms.Lambda(duplicateChannel),\n",
    "                transforms.ToTensor(),\n",
    "                transforms.Resize((224, 224)),\n",
    "                transforms.Normalize(\n",
    "                    mean=[0.485, 0.456, 0.406], std=[0.229, 0.224, 0.225]\n",
    "                ),\n",
    "            ]\n",
    "        ),\n",
    "    )\n",
    "    ####################\n",
    "    ##      FIN        #\n",
    "    ####################\n",
    "\n",
    "    train_loader = torch.utils.data.DataLoader(\n",
    "        train_dataset,\n",
    "        batch_size=batch_size,\n",
    "        shuffle=False,\n",
    "        pin_memory=CUDA,\n",
    "        num_workers=2,\n",
    "    )\n",
    "    val_loader = torch.utils.data.DataLoader(\n",
    "        val_dataset,\n",
    "        batch_size=batch_size,\n",
    "        shuffle=False,\n",
    "        pin_memory=CUDA,\n",
    "        num_workers=2,\n",
    "    )\n",
    "\n",
    "    return train_loader, val_loader"
   ]
  },
  {
   "cell_type": "code",
   "execution_count": null,
   "metadata": {
    "id": "EOIUpl4aWLs_"
   },
   "outputs": [],
   "source": [
    "PRINT_INTERVAL = 50\n",
    "\n",
    "\n",
    "def extract_features(data, model):\n",
    "    #####################\n",
    "    ## Votre code ici  ##\n",
    "    #####################\n",
    "    # init features matrices\n",
    "    y = np.empty((0))\n",
    "    ####################\n",
    "    ##      FIN        #\n",
    "    ####################\n",
    "\n",
    "    for i, (input, target) in enumerate(data):\n",
    "        if i % PRINT_INTERVAL == 0:\n",
    "            print(\"Batch {0:03d}/{1:03d}\".format(i, len(data)))\n",
    "        if CUDA:\n",
    "            input = input.cuda()\n",
    "        #####################\n",
    "        ## Votre code ici  ##\n",
    "        #####################\n",
    "        # Feature extraction à faire\n",
    "        features = model(input).detach().cpu().numpy()\n",
    "        features = features / np.linalg.norm(features, 2, 1, True)\n",
    "\n",
    "        if i == 0:\n",
    "            X = features\n",
    "        else:\n",
    "            X = np.vstack((X, features))\n",
    "\n",
    "        y = np.append(y, target.numpy())\n",
    "        ####################\n",
    "        ##      FIN        #\n",
    "        ####################\n",
    "    print(\"size of the extracted features:\", X.shape)\n",
    "\n",
    "    return X, y\n",
    "\n",
    "\n",
    "def search_hyperparameters(C_values, X_train, y_train, X_valid, y_valid):\n",
    "    accuracies = []\n",
    "\n",
    "    for c in C_values:\n",
    "        print(f\"Training SVM with C={c}\")\n",
    "        clf = LinearSVC(C=c)\n",
    "\n",
    "        # Fit on sub-train set\n",
    "        clf.fit(X_train, y_train)\n",
    "\n",
    "        # Evaluate on val set\n",
    "        acc = clf.score(X_valid, y_valid)\n",
    "        accuracies.append(acc)\n",
    "        print(f\"--> accuracy = {acc}\")\n",
    "    return accuracies\n",
    "\n",
    "\n",
    "def plot_accuracies(C_values, X_train, y_train, X_valid, y_valid):\n",
    "    plt.figure(figsize=(12, 7))\n",
    "    accuracies = search_hyperparameters(C_values, X_train, y_train, X_valid, y_valid)\n",
    "    plt.title(f\"kernel : linear\", fontsize=18)\n",
    "    plt.xticks(fontsize=15)\n",
    "    plt.yticks(fontsize=15)\n",
    "    plt.xlabel(\"C\", fontsize=18)\n",
    "    plt.ylabel(\"Accuracy\", fontsize=18)\n",
    "    plt.plot(C_values, accuracies)\n",
    "\n",
    "    print(\n",
    "        \"\\nBest C =\",\n",
    "        C_values[np.argmax(accuracies)],\n",
    "        \"  Best accuracy =\",\n",
    "        np.max(accuracies),\n",
    "    )\n",
    "\n",
    "    return accuracies\n",
    "\n",
    "\n",
    "def SVM_on_extracted_features(\n",
    "    path=\"15SceneData\", batch_size=8, layer_to_stop_at=0, model=VGG16relu7\n",
    "):\n",
    "    #####################\n",
    "    ## Votre code ici  ##\n",
    "    #####################\n",
    "    # Remplacer par le modèle par un réseau tronqué pour faire de la feature extraction\n",
    "    # On créera une nouvelle classe VGG16relu7 ici\n",
    "    model = model(layer_to_stop_at)\n",
    "    ####################\n",
    "    ##      FIN        #\n",
    "    ####################\n",
    "    model.eval()\n",
    "    if CUDA:  # si on fait du GPU, passage en CUDA\n",
    "        cudnn.benchmark = True\n",
    "        model = model.cuda()\n",
    "\n",
    "    # On récupère les données\n",
    "    print(\"Récupération des données\")\n",
    "    train, test = get_dataset(batch_size, path)\n",
    "\n",
    "    # Extraction des features\n",
    "    print(\"Feature extraction\")\n",
    "    X_train, y_train = extract_features(train, model)\n",
    "    X_test, y_test = extract_features(test, model)\n",
    "\n",
    "    #####################\n",
    "    ## Votre code ici  ##\n",
    "    #####################\n",
    "    # Apprentissage et évaluation des SVM à faire\n",
    "    print(\"Apprentissage des SVM\")\n",
    "    clf = LinearSVC(C=1)\n",
    "\n",
    "    # Fit on sub-train set\n",
    "    clf.fit(X_train, y_train)\n",
    "\n",
    "    # Evaluate on val set\n",
    "    accuracy = clf.score(X_test, y_test)\n",
    "\n",
    "    ####################\n",
    "    ##      FIN        #\n",
    "    ####################\n",
    "    print(\"\\n[C = 1] Accuracy = %f\" % accuracy, \"\\n\")\n",
    "\n",
    "    # TUNING OF THE C PARAMETER ================================================\n",
    "    C_values = np.arange(0.1, 3, 0.05)\n",
    "    accuracies = plot_accuracies(C_values, X_train, y_train, X_test, y_test)\n",
    "    # =========================================================================="
   ]
  },
  {
   "cell_type": "code",
   "execution_count": null,
   "metadata": {
    "colab": {
     "base_uri": "https://localhost:8080/",
     "height": 1000
    },
    "id": "Bw29ur8DAkDY",
    "outputId": "b1bef80b-2962-4d7b-ba45-b8862f3ddb3d"
   },
   "outputs": [],
   "source": [
    "SVM_on_extracted_features(\n",
    "    \"15SceneData\", batch_size=8, layer_to_stop_at=0\n",
    ")  # 1st layer from the end"
   ]
  },
  {
   "cell_type": "code",
   "execution_count": null,
   "metadata": {
    "colab": {
     "base_uri": "https://localhost:8080/",
     "height": 1000
    },
    "id": "M-CLeDq9WLvT",
    "outputId": "c71d37fd-2027-49dd-b5ac-6c9423161923"
   },
   "outputs": [],
   "source": [
    "SVM_on_extracted_features(\n",
    "    \"15SceneData\", batch_size=8, layer_to_stop_at=1\n",
    ")  # 2nd layer from the end"
   ]
  },
  {
   "cell_type": "code",
   "execution_count": null,
   "metadata": {
    "colab": {
     "base_uri": "https://localhost:8080/",
     "height": 1000
    },
    "id": "eQqIdhp8WLxj",
    "outputId": "d928a1df-6e69-4360-f498-a5c1fed0d60e"
   },
   "outputs": [],
   "source": [
    "SVM_on_extracted_features(\n",
    "    \"15SceneData\", batch_size=8, layer_to_stop_at=2\n",
    ")  # 3rd layer from the end"
   ]
  },
  {
   "cell_type": "code",
   "execution_count": null,
   "metadata": {
    "colab": {
     "base_uri": "https://localhost:8080/",
     "height": 1000
    },
    "id": "KTHKkaGJMv6s",
    "outputId": "4acaf5fe-625b-410a-a445-b2caf6e01397"
   },
   "outputs": [],
   "source": [
    "SVM_on_extracted_features(\n",
    "    \"15SceneData\", batch_size=8, layer_to_stop_at=3\n",
    ")  # 4th layer from the end"
   ]
  },
  {
   "cell_type": "code",
   "execution_count": null,
   "metadata": {
    "colab": {
     "base_uri": "https://localhost:8080/",
     "height": 1000
    },
    "id": "2SruwBCqM6wU",
    "outputId": "aa322629-7c84-4fe0-f0d5-0a60e4177e2d"
   },
   "outputs": [],
   "source": [
    "SVM_on_extracted_features(\n",
    "    \"15SceneData\", batch_size=8, layer_to_stop_at=4\n",
    ")  # 5th layer from the end"
   ]
  },
  {
   "cell_type": "code",
   "execution_count": null,
   "metadata": {
    "colab": {
     "base_uri": "https://localhost:8080/"
    },
    "id": "XSxuf8JcqKCl",
    "outputId": "e7e5d9cd-55fc-4d6f-9ad4-dc3387fb1dc3"
   },
   "outputs": [],
   "source": [
    "SVM_on_extracted_features(\n",
    "    \"15SceneData\", batch_size=8, layer_to_stop_at=8\n",
    ")  # 5th layer from the end"
   ]
  },
  {
   "cell_type": "code",
   "execution_count": null,
   "metadata": {
    "colab": {
     "base_uri": "https://localhost:8080/",
     "height": 1000,
     "referenced_widgets": [
      "246d0ad02674475a8f8a7c24b66f4a3b",
      "8c6c61e6297e48ff9bee4c4e7724898e",
      "30d4e83a0383400ea985968679ad9d6b",
      "043dcfba65fc498da15dba0356355f48",
      "ffcb1d4013e04bd787f9e0fcfcc1c192",
      "d1fe22145c9245e29323fc6b3f0730ae",
      "6ce6b29a1c604775bd510305afe65263",
      "8b1f8507cb7f44478b6ab7ab6ea1106f",
      "5bac4e4b65644b4589549e052d7fe6d2",
      "3ec574a8cb7a422bbb63f65bc53ac11e",
      "c149cad8964d412bac87b5aad40248d4"
     ]
    },
    "id": "6Ii1NaQwcnGt",
    "outputId": "4a38ce63-3a3f-4173-8286-95e33a6356d3"
   },
   "outputs": [],
   "source": [
    "resnet50 = torchvision.models.resnet50(weights=models.ResNet50_Weights.IMAGENET1K_V2)\n",
    "print(resnet50)\n",
    "print(vgg16)"
   ]
  },
  {
   "cell_type": "code",
   "execution_count": null,
   "metadata": {
    "id": "0PGAjTabc2y6"
   },
   "outputs": [],
   "source": [
    "class resnet50(nn.Module):\n",
    "    def __init__(self, layer_to_stop_at):\n",
    "        super(resnet50, self).__init__()\n",
    "\n",
    "        # Copy the entire convolutional part\n",
    "        self.features = nn.Sequential(*list(resnet50.children())[0:8])\n",
    "        self.classifier = nn.Sequential(*list(resnet50.children())[9])\n",
    "\n",
    "    def forward(self, x):\n",
    "        x = self.features(x)\n",
    "        x = x.view(x.size(0), -1)\n",
    "\n",
    "        # x = self.classifier(x)\n",
    "\n",
    "        return x"
   ]
  },
  {
   "cell_type": "code",
   "execution_count": null,
   "metadata": {
    "colab": {
     "base_uri": "https://localhost:8080/",
     "height": 1000
    },
    "id": "RqCAs3TTdZ_Z",
    "outputId": "e5da61b7-8867-4e5d-b605-6acccfde7cb4"
   },
   "outputs": [],
   "source": [
    "SVM_on_extracted_features(\"15SceneData\", batch_size=8, layer_to_stop_at=0)"
   ]
  }
 ],
 "metadata": {
  "accelerator": "GPU",
  "colab": {
   "provenance": []
  },
  "gpuClass": "standard",
  "kernelspec": {
   "display_name": "Python 3 (ipykernel)",
   "language": "python",
   "name": "python3"
  },
  "language_info": {
   "codemirror_mode": {
    "name": "ipython",
    "version": 3
   },
   "file_extension": ".py",
   "mimetype": "text/x-python",
   "name": "python",
   "nbconvert_exporter": "python",
   "pygments_lexer": "ipython3",
   "version": "3.8.10"
  },
  "widgets": {
   "application/vnd.jupyter.widget-state+json": {
    "043dcfba65fc498da15dba0356355f48": {
     "model_module": "@jupyter-widgets/controls",
     "model_module_version": "1.5.0",
     "model_name": "HTMLModel",
     "state": {
      "_dom_classes": [],
      "_model_module": "@jupyter-widgets/controls",
      "_model_module_version": "1.5.0",
      "_model_name": "HTMLModel",
      "_view_count": null,
      "_view_module": "@jupyter-widgets/controls",
      "_view_module_version": "1.5.0",
      "_view_name": "HTMLView",
      "description": "",
      "description_tooltip": null,
      "layout": "IPY_MODEL_3ec574a8cb7a422bbb63f65bc53ac11e",
      "placeholder": "​",
      "style": "IPY_MODEL_c149cad8964d412bac87b5aad40248d4",
      "value": " 97.8M/97.8M [00:00&lt;00:00, 108MB/s]"
     }
    },
    "0c3bc23650b24397b51708f094d353c2": {
     "model_module": "@jupyter-widgets/controls",
     "model_module_version": "1.5.0",
     "model_name": "DescriptionStyleModel",
     "state": {
      "_model_module": "@jupyter-widgets/controls",
      "_model_module_version": "1.5.0",
      "_model_name": "DescriptionStyleModel",
      "_view_count": null,
      "_view_module": "@jupyter-widgets/base",
      "_view_module_version": "1.2.0",
      "_view_name": "StyleView",
      "description_width": ""
     }
    },
    "19f7a9e020ec49db8d3bbe3fba8fdb5e": {
     "model_module": "@jupyter-widgets/base",
     "model_module_version": "1.2.0",
     "model_name": "LayoutModel",
     "state": {
      "_model_module": "@jupyter-widgets/base",
      "_model_module_version": "1.2.0",
      "_model_name": "LayoutModel",
      "_view_count": null,
      "_view_module": "@jupyter-widgets/base",
      "_view_module_version": "1.2.0",
      "_view_name": "LayoutView",
      "align_content": null,
      "align_items": null,
      "align_self": null,
      "border": null,
      "bottom": null,
      "display": null,
      "flex": null,
      "flex_flow": null,
      "grid_area": null,
      "grid_auto_columns": null,
      "grid_auto_flow": null,
      "grid_auto_rows": null,
      "grid_column": null,
      "grid_gap": null,
      "grid_row": null,
      "grid_template_areas": null,
      "grid_template_columns": null,
      "grid_template_rows": null,
      "height": null,
      "justify_content": null,
      "justify_items": null,
      "left": null,
      "margin": null,
      "max_height": null,
      "max_width": null,
      "min_height": null,
      "min_width": null,
      "object_fit": null,
      "object_position": null,
      "order": null,
      "overflow": null,
      "overflow_x": null,
      "overflow_y": null,
      "padding": null,
      "right": null,
      "top": null,
      "visibility": null,
      "width": null
     }
    },
    "246d0ad02674475a8f8a7c24b66f4a3b": {
     "model_module": "@jupyter-widgets/controls",
     "model_module_version": "1.5.0",
     "model_name": "HBoxModel",
     "state": {
      "_dom_classes": [],
      "_model_module": "@jupyter-widgets/controls",
      "_model_module_version": "1.5.0",
      "_model_name": "HBoxModel",
      "_view_count": null,
      "_view_module": "@jupyter-widgets/controls",
      "_view_module_version": "1.5.0",
      "_view_name": "HBoxView",
      "box_style": "",
      "children": [
       "IPY_MODEL_8c6c61e6297e48ff9bee4c4e7724898e",
       "IPY_MODEL_30d4e83a0383400ea985968679ad9d6b",
       "IPY_MODEL_043dcfba65fc498da15dba0356355f48"
      ],
      "layout": "IPY_MODEL_ffcb1d4013e04bd787f9e0fcfcc1c192"
     }
    },
    "250cc43aa6c24815afd49137d1ee736e": {
     "model_module": "@jupyter-widgets/base",
     "model_module_version": "1.2.0",
     "model_name": "LayoutModel",
     "state": {
      "_model_module": "@jupyter-widgets/base",
      "_model_module_version": "1.2.0",
      "_model_name": "LayoutModel",
      "_view_count": null,
      "_view_module": "@jupyter-widgets/base",
      "_view_module_version": "1.2.0",
      "_view_name": "LayoutView",
      "align_content": null,
      "align_items": null,
      "align_self": null,
      "border": null,
      "bottom": null,
      "display": null,
      "flex": null,
      "flex_flow": null,
      "grid_area": null,
      "grid_auto_columns": null,
      "grid_auto_flow": null,
      "grid_auto_rows": null,
      "grid_column": null,
      "grid_gap": null,
      "grid_row": null,
      "grid_template_areas": null,
      "grid_template_columns": null,
      "grid_template_rows": null,
      "height": null,
      "justify_content": null,
      "justify_items": null,
      "left": null,
      "margin": null,
      "max_height": null,
      "max_width": null,
      "min_height": null,
      "min_width": null,
      "object_fit": null,
      "object_position": null,
      "order": null,
      "overflow": null,
      "overflow_x": null,
      "overflow_y": null,
      "padding": null,
      "right": null,
      "top": null,
      "visibility": null,
      "width": null
     }
    },
    "30d4e83a0383400ea985968679ad9d6b": {
     "model_module": "@jupyter-widgets/controls",
     "model_module_version": "1.5.0",
     "model_name": "FloatProgressModel",
     "state": {
      "_dom_classes": [],
      "_model_module": "@jupyter-widgets/controls",
      "_model_module_version": "1.5.0",
      "_model_name": "FloatProgressModel",
      "_view_count": null,
      "_view_module": "@jupyter-widgets/controls",
      "_view_module_version": "1.5.0",
      "_view_name": "ProgressView",
      "bar_style": "success",
      "description": "",
      "description_tooltip": null,
      "layout": "IPY_MODEL_8b1f8507cb7f44478b6ab7ab6ea1106f",
      "max": 102540417,
      "min": 0,
      "orientation": "horizontal",
      "style": "IPY_MODEL_5bac4e4b65644b4589549e052d7fe6d2",
      "value": 102540417
     }
    },
    "3d6c541769624370b3ccd9d4df42d553": {
     "model_module": "@jupyter-widgets/controls",
     "model_module_version": "1.5.0",
     "model_name": "HBoxModel",
     "state": {
      "_dom_classes": [],
      "_model_module": "@jupyter-widgets/controls",
      "_model_module_version": "1.5.0",
      "_model_name": "HBoxModel",
      "_view_count": null,
      "_view_module": "@jupyter-widgets/controls",
      "_view_module_version": "1.5.0",
      "_view_name": "HBoxView",
      "box_style": "",
      "children": [
       "IPY_MODEL_5c7635daba544c9a84b98a96a79df8ab",
       "IPY_MODEL_f68978a9f5e74ed5be94ddcedaee9c8d",
       "IPY_MODEL_e8b615e1d0fe425e99443e5e06ce7e27"
      ],
      "layout": "IPY_MODEL_84b7c6d4f27849f3b8683acbcebfa5c6"
     }
    },
    "3ec574a8cb7a422bbb63f65bc53ac11e": {
     "model_module": "@jupyter-widgets/base",
     "model_module_version": "1.2.0",
     "model_name": "LayoutModel",
     "state": {
      "_model_module": "@jupyter-widgets/base",
      "_model_module_version": "1.2.0",
      "_model_name": "LayoutModel",
      "_view_count": null,
      "_view_module": "@jupyter-widgets/base",
      "_view_module_version": "1.2.0",
      "_view_name": "LayoutView",
      "align_content": null,
      "align_items": null,
      "align_self": null,
      "border": null,
      "bottom": null,
      "display": null,
      "flex": null,
      "flex_flow": null,
      "grid_area": null,
      "grid_auto_columns": null,
      "grid_auto_flow": null,
      "grid_auto_rows": null,
      "grid_column": null,
      "grid_gap": null,
      "grid_row": null,
      "grid_template_areas": null,
      "grid_template_columns": null,
      "grid_template_rows": null,
      "height": null,
      "justify_content": null,
      "justify_items": null,
      "left": null,
      "margin": null,
      "max_height": null,
      "max_width": null,
      "min_height": null,
      "min_width": null,
      "object_fit": null,
      "object_position": null,
      "order": null,
      "overflow": null,
      "overflow_x": null,
      "overflow_y": null,
      "padding": null,
      "right": null,
      "top": null,
      "visibility": null,
      "width": null
     }
    },
    "4ea2772c4bbb40a8b3f0f538af55d1ae": {
     "model_module": "@jupyter-widgets/controls",
     "model_module_version": "1.5.0",
     "model_name": "DescriptionStyleModel",
     "state": {
      "_model_module": "@jupyter-widgets/controls",
      "_model_module_version": "1.5.0",
      "_model_name": "DescriptionStyleModel",
      "_view_count": null,
      "_view_module": "@jupyter-widgets/base",
      "_view_module_version": "1.2.0",
      "_view_name": "StyleView",
      "description_width": ""
     }
    },
    "5bac4e4b65644b4589549e052d7fe6d2": {
     "model_module": "@jupyter-widgets/controls",
     "model_module_version": "1.5.0",
     "model_name": "ProgressStyleModel",
     "state": {
      "_model_module": "@jupyter-widgets/controls",
      "_model_module_version": "1.5.0",
      "_model_name": "ProgressStyleModel",
      "_view_count": null,
      "_view_module": "@jupyter-widgets/base",
      "_view_module_version": "1.2.0",
      "_view_name": "StyleView",
      "bar_color": null,
      "description_width": ""
     }
    },
    "5c7635daba544c9a84b98a96a79df8ab": {
     "model_module": "@jupyter-widgets/controls",
     "model_module_version": "1.5.0",
     "model_name": "HTMLModel",
     "state": {
      "_dom_classes": [],
      "_model_module": "@jupyter-widgets/controls",
      "_model_module_version": "1.5.0",
      "_model_name": "HTMLModel",
      "_view_count": null,
      "_view_module": "@jupyter-widgets/controls",
      "_view_module_version": "1.5.0",
      "_view_name": "HTMLView",
      "description": "",
      "description_tooltip": null,
      "layout": "IPY_MODEL_250cc43aa6c24815afd49137d1ee736e",
      "placeholder": "​",
      "style": "IPY_MODEL_0c3bc23650b24397b51708f094d353c2",
      "value": "100%"
     }
    },
    "6ce6b29a1c604775bd510305afe65263": {
     "model_module": "@jupyter-widgets/controls",
     "model_module_version": "1.5.0",
     "model_name": "DescriptionStyleModel",
     "state": {
      "_model_module": "@jupyter-widgets/controls",
      "_model_module_version": "1.5.0",
      "_model_name": "DescriptionStyleModel",
      "_view_count": null,
      "_view_module": "@jupyter-widgets/base",
      "_view_module_version": "1.2.0",
      "_view_name": "StyleView",
      "description_width": ""
     }
    },
    "75bdcba7bbfc44f09421b5d9578a05c3": {
     "model_module": "@jupyter-widgets/controls",
     "model_module_version": "1.5.0",
     "model_name": "ProgressStyleModel",
     "state": {
      "_model_module": "@jupyter-widgets/controls",
      "_model_module_version": "1.5.0",
      "_model_name": "ProgressStyleModel",
      "_view_count": null,
      "_view_module": "@jupyter-widgets/base",
      "_view_module_version": "1.2.0",
      "_view_name": "StyleView",
      "bar_color": null,
      "description_width": ""
     }
    },
    "84b7c6d4f27849f3b8683acbcebfa5c6": {
     "model_module": "@jupyter-widgets/base",
     "model_module_version": "1.2.0",
     "model_name": "LayoutModel",
     "state": {
      "_model_module": "@jupyter-widgets/base",
      "_model_module_version": "1.2.0",
      "_model_name": "LayoutModel",
      "_view_count": null,
      "_view_module": "@jupyter-widgets/base",
      "_view_module_version": "1.2.0",
      "_view_name": "LayoutView",
      "align_content": null,
      "align_items": null,
      "align_self": null,
      "border": null,
      "bottom": null,
      "display": null,
      "flex": null,
      "flex_flow": null,
      "grid_area": null,
      "grid_auto_columns": null,
      "grid_auto_flow": null,
      "grid_auto_rows": null,
      "grid_column": null,
      "grid_gap": null,
      "grid_row": null,
      "grid_template_areas": null,
      "grid_template_columns": null,
      "grid_template_rows": null,
      "height": null,
      "justify_content": null,
      "justify_items": null,
      "left": null,
      "margin": null,
      "max_height": null,
      "max_width": null,
      "min_height": null,
      "min_width": null,
      "object_fit": null,
      "object_position": null,
      "order": null,
      "overflow": null,
      "overflow_x": null,
      "overflow_y": null,
      "padding": null,
      "right": null,
      "top": null,
      "visibility": null,
      "width": null
     }
    },
    "8b1f8507cb7f44478b6ab7ab6ea1106f": {
     "model_module": "@jupyter-widgets/base",
     "model_module_version": "1.2.0",
     "model_name": "LayoutModel",
     "state": {
      "_model_module": "@jupyter-widgets/base",
      "_model_module_version": "1.2.0",
      "_model_name": "LayoutModel",
      "_view_count": null,
      "_view_module": "@jupyter-widgets/base",
      "_view_module_version": "1.2.0",
      "_view_name": "LayoutView",
      "align_content": null,
      "align_items": null,
      "align_self": null,
      "border": null,
      "bottom": null,
      "display": null,
      "flex": null,
      "flex_flow": null,
      "grid_area": null,
      "grid_auto_columns": null,
      "grid_auto_flow": null,
      "grid_auto_rows": null,
      "grid_column": null,
      "grid_gap": null,
      "grid_row": null,
      "grid_template_areas": null,
      "grid_template_columns": null,
      "grid_template_rows": null,
      "height": null,
      "justify_content": null,
      "justify_items": null,
      "left": null,
      "margin": null,
      "max_height": null,
      "max_width": null,
      "min_height": null,
      "min_width": null,
      "object_fit": null,
      "object_position": null,
      "order": null,
      "overflow": null,
      "overflow_x": null,
      "overflow_y": null,
      "padding": null,
      "right": null,
      "top": null,
      "visibility": null,
      "width": null
     }
    },
    "8c6c61e6297e48ff9bee4c4e7724898e": {
     "model_module": "@jupyter-widgets/controls",
     "model_module_version": "1.5.0",
     "model_name": "HTMLModel",
     "state": {
      "_dom_classes": [],
      "_model_module": "@jupyter-widgets/controls",
      "_model_module_version": "1.5.0",
      "_model_name": "HTMLModel",
      "_view_count": null,
      "_view_module": "@jupyter-widgets/controls",
      "_view_module_version": "1.5.0",
      "_view_name": "HTMLView",
      "description": "",
      "description_tooltip": null,
      "layout": "IPY_MODEL_d1fe22145c9245e29323fc6b3f0730ae",
      "placeholder": "​",
      "style": "IPY_MODEL_6ce6b29a1c604775bd510305afe65263",
      "value": "100%"
     }
    },
    "baf72d30b7114aeead132340f2661f0c": {
     "model_module": "@jupyter-widgets/base",
     "model_module_version": "1.2.0",
     "model_name": "LayoutModel",
     "state": {
      "_model_module": "@jupyter-widgets/base",
      "_model_module_version": "1.2.0",
      "_model_name": "LayoutModel",
      "_view_count": null,
      "_view_module": "@jupyter-widgets/base",
      "_view_module_version": "1.2.0",
      "_view_name": "LayoutView",
      "align_content": null,
      "align_items": null,
      "align_self": null,
      "border": null,
      "bottom": null,
      "display": null,
      "flex": null,
      "flex_flow": null,
      "grid_area": null,
      "grid_auto_columns": null,
      "grid_auto_flow": null,
      "grid_auto_rows": null,
      "grid_column": null,
      "grid_gap": null,
      "grid_row": null,
      "grid_template_areas": null,
      "grid_template_columns": null,
      "grid_template_rows": null,
      "height": null,
      "justify_content": null,
      "justify_items": null,
      "left": null,
      "margin": null,
      "max_height": null,
      "max_width": null,
      "min_height": null,
      "min_width": null,
      "object_fit": null,
      "object_position": null,
      "order": null,
      "overflow": null,
      "overflow_x": null,
      "overflow_y": null,
      "padding": null,
      "right": null,
      "top": null,
      "visibility": null,
      "width": null
     }
    },
    "c149cad8964d412bac87b5aad40248d4": {
     "model_module": "@jupyter-widgets/controls",
     "model_module_version": "1.5.0",
     "model_name": "DescriptionStyleModel",
     "state": {
      "_model_module": "@jupyter-widgets/controls",
      "_model_module_version": "1.5.0",
      "_model_name": "DescriptionStyleModel",
      "_view_count": null,
      "_view_module": "@jupyter-widgets/base",
      "_view_module_version": "1.2.0",
      "_view_name": "StyleView",
      "description_width": ""
     }
    },
    "d1fe22145c9245e29323fc6b3f0730ae": {
     "model_module": "@jupyter-widgets/base",
     "model_module_version": "1.2.0",
     "model_name": "LayoutModel",
     "state": {
      "_model_module": "@jupyter-widgets/base",
      "_model_module_version": "1.2.0",
      "_model_name": "LayoutModel",
      "_view_count": null,
      "_view_module": "@jupyter-widgets/base",
      "_view_module_version": "1.2.0",
      "_view_name": "LayoutView",
      "align_content": null,
      "align_items": null,
      "align_self": null,
      "border": null,
      "bottom": null,
      "display": null,
      "flex": null,
      "flex_flow": null,
      "grid_area": null,
      "grid_auto_columns": null,
      "grid_auto_flow": null,
      "grid_auto_rows": null,
      "grid_column": null,
      "grid_gap": null,
      "grid_row": null,
      "grid_template_areas": null,
      "grid_template_columns": null,
      "grid_template_rows": null,
      "height": null,
      "justify_content": null,
      "justify_items": null,
      "left": null,
      "margin": null,
      "max_height": null,
      "max_width": null,
      "min_height": null,
      "min_width": null,
      "object_fit": null,
      "object_position": null,
      "order": null,
      "overflow": null,
      "overflow_x": null,
      "overflow_y": null,
      "padding": null,
      "right": null,
      "top": null,
      "visibility": null,
      "width": null
     }
    },
    "e8b615e1d0fe425e99443e5e06ce7e27": {
     "model_module": "@jupyter-widgets/controls",
     "model_module_version": "1.5.0",
     "model_name": "HTMLModel",
     "state": {
      "_dom_classes": [],
      "_model_module": "@jupyter-widgets/controls",
      "_model_module_version": "1.5.0",
      "_model_name": "HTMLModel",
      "_view_count": null,
      "_view_module": "@jupyter-widgets/controls",
      "_view_module_version": "1.5.0",
      "_view_name": "HTMLView",
      "description": "",
      "description_tooltip": null,
      "layout": "IPY_MODEL_19f7a9e020ec49db8d3bbe3fba8fdb5e",
      "placeholder": "​",
      "style": "IPY_MODEL_4ea2772c4bbb40a8b3f0f538af55d1ae",
      "value": " 528M/528M [00:03&lt;00:00, 107MB/s]"
     }
    },
    "f68978a9f5e74ed5be94ddcedaee9c8d": {
     "model_module": "@jupyter-widgets/controls",
     "model_module_version": "1.5.0",
     "model_name": "FloatProgressModel",
     "state": {
      "_dom_classes": [],
      "_model_module": "@jupyter-widgets/controls",
      "_model_module_version": "1.5.0",
      "_model_name": "FloatProgressModel",
      "_view_count": null,
      "_view_module": "@jupyter-widgets/controls",
      "_view_module_version": "1.5.0",
      "_view_name": "ProgressView",
      "bar_style": "success",
      "description": "",
      "description_tooltip": null,
      "layout": "IPY_MODEL_baf72d30b7114aeead132340f2661f0c",
      "max": 553433881,
      "min": 0,
      "orientation": "horizontal",
      "style": "IPY_MODEL_75bdcba7bbfc44f09421b5d9578a05c3",
      "value": 553433881
     }
    },
    "ffcb1d4013e04bd787f9e0fcfcc1c192": {
     "model_module": "@jupyter-widgets/base",
     "model_module_version": "1.2.0",
     "model_name": "LayoutModel",
     "state": {
      "_model_module": "@jupyter-widgets/base",
      "_model_module_version": "1.2.0",
      "_model_name": "LayoutModel",
      "_view_count": null,
      "_view_module": "@jupyter-widgets/base",
      "_view_module_version": "1.2.0",
      "_view_name": "LayoutView",
      "align_content": null,
      "align_items": null,
      "align_self": null,
      "border": null,
      "bottom": null,
      "display": null,
      "flex": null,
      "flex_flow": null,
      "grid_area": null,
      "grid_auto_columns": null,
      "grid_auto_flow": null,
      "grid_auto_rows": null,
      "grid_column": null,
      "grid_gap": null,
      "grid_row": null,
      "grid_template_areas": null,
      "grid_template_columns": null,
      "grid_template_rows": null,
      "height": null,
      "justify_content": null,
      "justify_items": null,
      "left": null,
      "margin": null,
      "max_height": null,
      "max_width": null,
      "min_height": null,
      "min_width": null,
      "object_fit": null,
      "object_position": null,
      "order": null,
      "overflow": null,
      "overflow_x": null,
      "overflow_y": null,
      "padding": null,
      "right": null,
      "top": null,
      "visibility": null,
      "width": null
     }
    }
   }
  }
 },
 "nbformat": 4,
 "nbformat_minor": 1
}
