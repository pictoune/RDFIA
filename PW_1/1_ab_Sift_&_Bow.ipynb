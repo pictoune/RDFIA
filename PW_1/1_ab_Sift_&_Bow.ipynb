{
 "cells": [
  {
   "cell_type": "markdown",
   "metadata": {
    "id": "PbzBJ1m9FBBb"
   },
   "source": [
    "<center><h1>1-ab: SIFT & BoW</h1></center>\n",
    "\n",
    "<center><h2><a href=\"https://rdfia.github.io/\">Course link</a></h2></center>\n",
    "\n",
    "# Warning : \n",
    "# Do \"File -> Save a copy in Drive\" before you start modifying the notebook, otherwise your modifications will not be saved.\n",
    "\n"
   ]
  },
  {
   "cell_type": "code",
   "execution_count": null,
   "metadata": {
    "colab": {
     "base_uri": "https://localhost:8080/"
    },
    "id": "NfnKy8NB8J5e",
    "outputId": "217029f8-44bc-4c10-c181-08c5f81911b6"
   },
   "outputs": [],
   "source": [
    "!wget https://github.com/rdfia/rdfia.github.io/raw/master/data/TP1-2-data.zip\n",
    "      \n",
    "!unzip TP1-2-data.zip\n",
    "\n",
    "!wget https://raw.githubusercontent.com/rdfia/rdfia.github.io/master/code/1-ab/tools.py"
   ]
  },
  {
   "cell_type": "code",
   "execution_count": null,
   "metadata": {
    "id": "2vQ_LLdx8J5b"
   },
   "outputs": [],
   "source": [
    "import matplotlib\n",
    "import matplotlib.pyplot as plt\n",
    "%matplotlib inline  \n",
    "\n",
    "import numpy as np\n",
    "%run 'tools.py'\n",
    "import tools\n",
    "from os.path import join\n",
    "\n",
    "data_path = \"data\""
   ]
  },
  {
   "cell_type": "markdown",
   "metadata": {
    "id": "48x_ha7f8J5i"
   },
   "source": [
    "# Part 1 : SIFT"
   ]
  },
  {
   "cell_type": "code",
   "execution_count": null,
   "metadata": {
    "colab": {
     "base_uri": "https://localhost:8080/",
     "height": 286
    },
    "id": "pxZOH3wD8J5i",
    "outputId": "8cfb6886-0ff8-4590-9a57-45ae07025cba"
   },
   "outputs": [],
   "source": [
    "# example images\n",
    "I = read_grayscale(join(data_path, 'tools.tiff'))\n",
    "I2 = read_grayscale(join(data_path, 'Scene/CALsuburb/image_0205.jpg'))\n",
    "plt.imshow(I ,  cmap='gray' )"
   ]
  },
  {
   "cell_type": "code",
   "execution_count": null,
   "metadata": {
    "colab": {
     "base_uri": "https://localhost:8080/",
     "height": 485
    },
    "id": "EJKLEzx88J5k",
    "outputId": "0dab0036-e449-4af1-c20a-ebe1325446a6"
   },
   "outputs": [],
   "source": [
    "def compute_grad(I):\n",
    "\n",
    "    hy=np.array([1/2,1,1/2])\n",
    "    hx=np.array([-1/2,0,1/2])\n",
    "\n",
    "    Ix = conv_separable(I, hy, hx)\n",
    "    Iy = conv_separable(I, hx, hy)\n",
    "    \n",
    "    return Ix, Iy\n",
    "\n",
    "# Example\n",
    "Ix, Iy = compute_grad(I)\n",
    "plt.imshow(Ix ,  cmap='gray')\n",
    "plt.colorbar()\n",
    "plt.show()\n",
    "plt.imshow(Iy ,  cmap='gray')\n",
    "plt.colorbar()\n",
    "plt.show()"
   ]
  },
  {
   "cell_type": "code",
   "execution_count": null,
   "metadata": {
    "colab": {
     "base_uri": "https://localhost:8080/",
     "height": 254
    },
    "id": "gFQ8iopBGjoR",
    "outputId": "ff9fb4db-909d-43af-9c0b-66a7f2e56337"
   },
   "outputs": [],
   "source": [
    "Ix,Iy = compute_grad(I)\n",
    "\n",
    "Gn = np.sqrt(np.square(Ix)+np.square(Iy))\n",
    "Gn\n",
    "\n",
    "plt.imshow(Gn ,  cmap='gray')\n",
    "plt.colorbar()\n",
    "plt.show()"
   ]
  },
  {
   "cell_type": "code",
   "execution_count": null,
   "metadata": {
    "id": "GtizX1JV8J5n"
   },
   "outputs": [],
   "source": [
    "def compute_grad_mod_ori(I):\n",
    "    #####################\n",
    "    ## Your code here  ##\n",
    "    #####################\n",
    "    Ix,Iy = compute_grad(I)\n",
    "\n",
    "    Gn = np.sqrt(np.square(Ix)+np.square(Iy))\n",
    "\n",
    "    Go = compute_grad_ori(Ix, Iy, Gn)\n",
    "    \n",
    "    ####################\n",
    "    ##      END        #\n",
    "    ####################\n",
    "    return Gn, Go"
   ]
  },
  {
   "cell_type": "code",
   "execution_count": null,
   "metadata": {
    "colab": {
     "base_uri": "https://localhost:8080/",
     "height": 643
    },
    "id": "ktUrFzsk8J5p",
    "outputId": "31541734-c71f-405a-f483-912023831288"
   },
   "outputs": [],
   "source": [
    "Gn, Go = compute_grad_mod_ori(I)\n",
    "plt.imshow(Gn)\n",
    "plt.show()\n",
    "plt.imshow(Go)\n",
    "plt.show()\n",
    "print(Go)"
   ]
  },
  {
   "cell_type": "code",
   "execution_count": null,
   "metadata": {
    "id": "gOo5S8nu8J5r"
   },
   "outputs": [],
   "source": [
    "def compute_histogram(g_n, g_o):\n",
    "    \"\"\"\n",
    "    g_n and g_o are 4x4 matrices that contain the norm, and the discretized orientation.\n",
    "    Warning: g_o can contain -1, those values should be discarded.\n",
    "    \"\"\"\n",
    "    hist = np.zeros((9))\n",
    "\n",
    "    hist[g_o] += g_n\n",
    "\n",
    "    return hist[0:8]"
   ]
  },
  {
   "cell_type": "code",
   "execution_count": null,
   "metadata": {
    "id": "eAsumzFI8J5u"
   },
   "outputs": [],
   "source": [
    "def compute_sift_region(Gn, Go, mask=None):\n",
    "    t_min=.5\n",
    "    t_max=.2\n",
    "    with_l2 = True\n",
    "\n",
    "    patch_size = 16\n",
    "    sift = np.zeros((128)) \n",
    "\n",
    "    if mask is not None:\n",
    "        Gn = Gn * mask\n",
    "    \n",
    "    idx = 0\n",
    "    for k in range(0, patch_size, 4):\n",
    "        for l in range(0, patch_size, 4):\n",
    "            hist = compute_histogram(Gn[l:l+4,k:k+4], Go[l:l+4,k:k+4])            \n",
    "            sift[idx:idx+8] = hist\n",
    "            idx += 8\n",
    "\n",
    "    norm = np.linalg.norm(sift, ord=2)\n",
    "    # min thresholding on norm\n",
    "    if norm <= t_min:\n",
    "        return np.zeros((128))\n",
    "    # l2-normalization\n",
    "    if with_l2:\n",
    "        sift = sift / norm\n",
    "    # max thresholding on values\n",
    "    sift[sift >= t_max] = t_max\n",
    "    # l2-normalization\n",
    "    if with_l2:\n",
    "        norm = np.linalg.norm(sift, ord=2)\n",
    "        sift = sift / norm\n",
    "    return sift\n"
   ]
  },
  {
   "cell_type": "code",
   "execution_count": null,
   "metadata": {
    "colab": {
     "base_uri": "https://localhost:8080/",
     "height": 1000
    },
    "id": "GESlu74v8J5w",
    "outputId": "d0e3a3c3-8631-4d7b-d556-5c90d6f11f1e"
   },
   "outputs": [],
   "source": [
    "# Example of viz of SIFTs\n",
    "# set gausm to True to apply mask weighting of gradients\n",
    "display_sift_region(I,           compute_grad_mod_ori, compute_sift_region, x=200, y=78, gausm=True)\n",
    "display_sift_region(marche_im(), compute_grad_mod_ori, compute_sift_region, x=100, y=125, gausm=True)\n",
    "display_sift_region(marche_im(), compute_grad_mod_ori, compute_sift_region, x=100, y=125, gausm=False)\n",
    "display_sift_region(marche_im(), compute_grad_mod_ori, compute_sift_region, x=125, y=100, gausm=False)\n",
    "display_sift_region(marche_im(), compute_grad_mod_ori, compute_sift_region, x=121, y=121, gausm=False)\n",
    "display_sift_region(toy_im(),    compute_grad_mod_ori, compute_sift_region, x=95, y=95, gausm=False)"
   ]
  },
  {
   "cell_type": "code",
   "execution_count": null,
   "metadata": {
    "id": "f68dU2zc8J5y"
   },
   "outputs": [],
   "source": [
    "def compute_sift_image(I):\n",
    "    x, y = dense_sampling(I)\n",
    "    im = auto_padding(I)\n",
    "    m = gaussian_mask()\n",
    "    \n",
    "    #####################\n",
    "    ## Your code here  ##\n",
    "    #####################\n",
    "    # Here, compute on the global image (norm, gradients)\n",
    "    Gn, Go = compute_grad_mod_ori(im)\n",
    "\n",
    "    ####################\n",
    "    ##      END        #\n",
    "    ####################\n",
    "\n",
    "    sifts = np.zeros((len(x), len(y), 128))\n",
    "    for i, xi in enumerate(x):\n",
    "        for j, yj in enumerate(y):\n",
    "            #####################\n",
    "            ## Your code here  ##\n",
    "            #####################\n",
    "            sifts[i, j, :] = compute_sift_region(Gn[xi:xi+16,yj:yj+16],Go[xi:xi+16,yj:yj+16],mask=m) # TODO SIFT of the patch of coords (xi, yj)\n",
    "\n",
    "            ####################\n",
    "            ##      END        #\n",
    "            ####################\n",
    "\n",
    "    return sifts"
   ]
  },
  {
   "cell_type": "markdown",
   "metadata": {
    "id": "yZukBC_K8J50"
   },
   "source": [
    "# Compute SIFT"
   ]
  },
  {
   "cell_type": "markdown",
   "metadata": {
    "id": "yrzmLgQA8J50"
   },
   "source": [
    "The computation can take several minutes."
   ]
  },
  {
   "cell_type": "code",
   "execution_count": null,
   "metadata": {
    "colab": {
     "base_uri": "https://localhost:8080/"
    },
    "id": "oGMbF2Sj9cus",
    "outputId": "583337c6-484d-40af-c56f-08d319524b59"
   },
   "outputs": [],
   "source": [
    "from google.colab import drive\n",
    "drive.mount('/content/gdrive')"
   ]
  },
  {
   "cell_type": "code",
   "execution_count": null,
   "metadata": {
    "colab": {
     "base_uri": "https://localhost:8080/"
    },
    "id": "PlKBdt558J57",
    "outputId": "08e88f7c-fadd-46dc-fcca-015d5298e80a"
   },
   "outputs": [],
   "source": [
    "max_images_per_class = 100  # You can change this to None to compute the whole dataset (takes quite some time)\n",
    "\n",
    "save_path = \"/gdrive/My Drive/rdfia/\"\n",
    "dir_sc = os.path.join(data_path, 'Scene')\n",
    "dir_sift = os.path.join(save_path, 'sift')\n",
    "inames, ilabls, cnames = load_dataset(dir_sc, images_per_class=max_images_per_class)\n",
    "sifts_list_by_image = compute_load_sift_dataset(dir_sc, dir_sift, inames, compute_sift_image)"
   ]
  },
  {
   "cell_type": "markdown",
   "metadata": {
    "id": "OrHHH5PL8J54"
   },
   "source": [
    "# Part 2 : Visual dictionnary"
   ]
  },
  {
   "cell_type": "code",
   "execution_count": null,
   "metadata": {
    "id": "9q755wymUvQQ"
   },
   "outputs": [],
   "source": [
    "from sklearn.cluster import KMeans\n",
    "\n",
    "path_vdict = os.path.join(save_path, 'kmeans', 'vdict.npy')\n",
    "os.makedirs(os.path.join(save_path, 'kmeans'), exist_ok=True)"
   ]
  },
  {
   "cell_type": "code",
   "execution_count": null,
   "metadata": {
    "colab": {
     "base_uri": "https://localhost:8080/"
    },
    "id": "Shm4b04zu_uV",
    "outputId": "98ea09e9-15a9-4495-c7eb-fb4bed50cbfa"
   },
   "outputs": [],
   "source": [
    "!ls\n",
    "!pwd"
   ]
  },
  {
   "cell_type": "code",
   "execution_count": null,
   "metadata": {
    "id": "w42e1Z6d8J6A"
   },
   "outputs": [],
   "source": [
    "# Code here the `compute_visual_dict` function\n",
    "def compute_visual_dict(sift, n_clusters=1000, n_init=1, verbose=1):\n",
    "    # reorder data\n",
    "    dim_sift = sift[0].shape[-1]\n",
    "    sift = [s.reshape(-1, dim_sift) for s in sift]\n",
    "    sift = np.concatenate(sift, axis=0)\n",
    "    # remove zero vectors\n",
    "    keep = ~np.all(sift==0, axis=1)\n",
    "    sift = sift[keep]\n",
    "    # randomly pick sift\n",
    "    ids, _ = compute_split(sift.shape[0], pc=0.05)\n",
    "    sift = sift[ids]\n",
    "\n",
    "    # TODO compute kmeans on `sift`, get cluster centers, add zeros vector, and return visual dict\n",
    "    #####################\n",
    "    ## Your code here  ##\n",
    "    #####################\n",
    "\n",
    "    means = KMeans(n_clusters=n_clusters,n_init=n_init,verbose=0)\n",
    "    means.fit(sift)\n",
    "    vdict=means.cluster_centers_\n",
    "\n",
    "    zeros = np.zeros((1,dim_sift))\n",
    "    vdict = np.vstack((vdict,zeros))\n",
    "    \n",
    "    ####################\n",
    "    ##      END        #\n",
    "    ####################\n",
    "    return vdict\n"
   ]
  },
  {
   "cell_type": "code",
   "execution_count": null,
   "metadata": {
    "colab": {
     "base_uri": "https://localhost:8080/"
    },
    "id": "97qG503C8J6C",
    "outputId": "07a55319-4781-4712-be0c-e49c3c5cd895"
   },
   "outputs": [],
   "source": [
    "# Run the visual dict computation (saved the first time)\n",
    "\n",
    "vdict = compute_or_load_vdict(dir_sc, dir_sift, inames, compute_sift_image, path_vdict, compute_visual_dict)"
   ]
  },
  {
   "cell_type": "code",
   "execution_count": null,
   "metadata": {
    "colab": {
     "base_uri": "https://localhost:8080/",
     "height": 1000
    },
    "id": "pcpOdcs58J6F",
    "outputId": "3f00945a-c91c-411f-a47b-a258e8213cb5"
   },
   "outputs": [],
   "source": [
    "# Study of the dict\n",
    "\n",
    "print(vdict)\n",
    "\n",
    "# choose random images\n",
    "indexes = np.random.randint(0, len(inames), 30)\n",
    "sifts = [sifts_list_by_image[i] for i in indexes]\n",
    "chosen_inames = [inames[i] for i in indexes]\n",
    "\n",
    "regions, sifts = get_regions_and_sifts(dir_sc, chosen_inames, sifts) # Compute SIFT and regions from 30 random images\n",
    "# display_images(regions[np.random.choice(len(regions), 100)]) # Show 100 random regions\n",
    "\n",
    "centers = list(range(20))\n",
    "for center in centers:\n",
    "  center_vect = vdict[center]\n",
    "  dist = ((sifts - center_vect)**2).sum(axis=1)\n",
    "  # get best 100\n",
    "  top100 = dist.argsort()[:100]\n",
    "  top100_regions = regions[top100]\n",
    "  display_images(top100_regions) # Show 100 random regions"
   ]
  },
  {
   "cell_type": "markdown",
   "metadata": {
    "id": "5FV1iss68J6H"
   },
   "source": [
    "# Partie 3 : BoW"
   ]
  },
  {
   "cell_type": "code",
   "execution_count": null,
   "metadata": {
    "id": "5-h4r-FH8J6I"
   },
   "outputs": [],
   "source": [
    "# TODO Compute BoW for an image\n",
    "# indication: scipy.spatial.distance_matrix\n",
    "from sklearn.metrics.pairwise import euclidean_distances\n",
    "from scipy.spatial import distance_matrix\n",
    "\n",
    "def compute_feats(vdict, image_sifts):\n",
    "    \"\"\"\n",
    "    vdict: (num_clusters, 128): visual dictionnary containing all clusters.\n",
    "    image_sifts: (H, W, 128) all sift features from the given image\n",
    "    \"\"\"\n",
    "    # flatten sifts\n",
    "    sifts = image_sifts.reshape(-1, 128)  # (N, 128)\n",
    "    feats = np.zeros(vdict.shape[0])\n",
    "\n",
    "    # compute distance from image sifts to vdict\n",
    "    dist_mat = distance_matrix(sifts,vdict)\n",
    "\n",
    "    min_indices = np.argmin(dist_mat,axis=1)\n",
    "\n",
    "    h = np.zeros(dist_mat.shape)\n",
    "\n",
    "    h[list(range(len(h))),min_indices] = 1\n",
    "\n",
    "    z = np.sum(h,axis=0)\n",
    "\n",
    "    feats = z/np.linalg.norm(z)\n",
    "    ####################\n",
    "    ##      END        #\n",
    "    ####################\n",
    "    return feats"
   ]
  },
  {
   "cell_type": "code",
   "execution_count": null,
   "metadata": {
    "colab": {
     "base_uri": "https://localhost:8080/"
    },
    "id": "q68ynKzeyn4n",
    "outputId": "43ba59e0-58d8-4817-edbc-cf9550c84edb"
   },
   "outputs": [],
   "source": [
    "M = np.array([[0,5,2],\n",
    "              [12,1,0],\n",
    "              [45,4,69]\n",
    "            ])\n",
    "\n",
    "np.argmin(M,axis=1)"
   ]
  },
  {
   "cell_type": "code",
   "execution_count": null,
   "metadata": {
    "colab": {
     "base_uri": "https://localhost:8080/",
     "height": 899
    },
    "id": "Is9sv-RM8J6K",
    "outputId": "3d47c8cc-6816-42df-fc04-5d6b7b9f80c1"
   },
   "outputs": [],
   "source": [
    "# Visualize your BoW on an image\n",
    "\n",
    "iname = inames[3]\n",
    "ipath = os.path.join(dir_sc, iname)\n",
    "im = read_grayscale(ipath)\n",
    "sift = compute_sift_image(im)\n",
    "sift = (sift * 255).astype('uint8')\n",
    "regions = compute_regions(im)\n",
    "feats = compute_feats(vdict, sift)\n",
    "\n",
    "display_vdregions_image(im, vdict, sift, feats, vdregions=None) # if you have vdregions, add it as input here"
   ]
  },
  {
   "cell_type": "markdown",
   "metadata": {
    "id": "xEmnYyZdE_vH"
   },
   "source": []
  }
 ],
 "metadata": {
  "colab": {
   "collapsed_sections": [],
   "provenance": []
  },
  "kernelspec": {
   "display_name": "Python 3 (ipykernel)",
   "language": "python",
   "name": "python3"
  },
  "language_info": {
   "codemirror_mode": {
    "name": "ipython",
    "version": 3
   },
   "file_extension": ".py",
   "mimetype": "text/x-python",
   "name": "python",
   "nbconvert_exporter": "python",
   "pygments_lexer": "ipython3",
   "version": "3.8.10"
  }
 },
 "nbformat": 4,
 "nbformat_minor": 1
}
