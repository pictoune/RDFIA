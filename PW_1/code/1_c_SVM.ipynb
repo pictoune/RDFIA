{
 "cells": [
  {
   "cell_type": "markdown",
   "metadata": {
    "id": "zTKZy7Gj6veU"
   },
   "source": [
    "<center><h1>1-c: SVM</h1></center>\n",
    "\n",
    "<center><h2><a href=\"https://rdfia.github.io/\">Course link</a></h2></center>\n",
    "\n",
    "# Warning : \n",
    "# Do \"File -> Save a copy in Drive\" before you start modifying the notebook, otherwise your modifications will not be saved.\n"
   ]
  },
  {
   "cell_type": "code",
   "execution_count": null,
   "metadata": {
    "colab": {
     "base_uri": "https://localhost:8080/"
    },
    "id": "QK8of_MGVV2M",
    "outputId": "1d56c197-723f-49a5-cd53-a50549f87208"
   },
   "outputs": [],
   "source": [
    "!wget https://github.com/rdfia/rdfia.github.io/raw/master/data/15_scenes_Xy.npz"
   ]
  },
  {
   "cell_type": "code",
   "execution_count": null,
   "metadata": {
    "colab": {
     "base_uri": "https://localhost:8080/"
    },
    "id": "PH3AHmt_WAOs",
    "outputId": "1434ad65-58d3-4695-a2b6-8cd3851863d7"
   },
   "outputs": [],
   "source": [
    "%pylab inline\n",
    "\n",
    "import matplotlib.pyplot as plt\n",
    "import numpy as np\n",
    "from sklearn.svm import SVC, LinearSVC\n",
    "from sklearn.model_selection import train_test_split"
   ]
  },
  {
   "cell_type": "markdown",
   "metadata": {
    "id": "A6TfY3K0W8MM"
   },
   "source": [
    "Loading BoW of the whole dataset (4485 images, thus 4485 dictionnary of 1001 words):"
   ]
  },
  {
   "cell_type": "code",
   "execution_count": null,
   "metadata": {
    "colab": {
     "base_uri": "https://localhost:8080/"
    },
    "id": "FWLV0po7WO1E",
    "outputId": "940c2b50-28d7-45cb-c572-5b303630ba18"
   },
   "outputs": [],
   "source": [
    "data = np.load(\"15_scenes_Xy.npz\")\n",
    "X = data[\"X\"]\n",
    "y = data[\"y\"]\n",
    "\n",
    "X.shape, y.shape"
   ]
  },
  {
   "cell_type": "markdown",
   "metadata": {
    "id": "Sfh5x5kYXFcY"
   },
   "source": [
    "Let's see what is the class distribution:"
   ]
  },
  {
   "cell_type": "code",
   "execution_count": null,
   "metadata": {
    "colab": {
     "base_uri": "https://localhost:8080/"
    },
    "id": "RqNSdTTkWiPQ",
    "outputId": "12f42e90-fcc5-4574-bd61-9478bcd78b1a"
   },
   "outputs": [],
   "source": [
    "{c: nb for c, nb in enumerate(np.bincount(y))}"
   ]
  },
  {
   "cell_type": "markdown",
   "metadata": {
    "id": "MVUjgR30X7pI"
   },
   "source": [
    "Split the dataset into a train & test set:"
   ]
  },
  {
   "cell_type": "code",
   "execution_count": null,
   "metadata": {
    "id": "AO4XiNupWjVk"
   },
   "outputs": [],
   "source": [
    "X_train_all, X_test, y_train_all, y_test = train_test_split(\n",
    "    X, y, test_size=0.2, stratify=y\n",
    ")"
   ]
  },
  {
   "cell_type": "markdown",
   "metadata": {
    "id": "SsnJDa_IYdmk"
   },
   "source": [
    "Then a validation set from the train set:"
   ]
  },
  {
   "cell_type": "code",
   "execution_count": null,
   "metadata": {
    "id": "jjX3N-35YcFs"
   },
   "outputs": [],
   "source": [
    "X_train, X_valid, y_train, y_valid = train_test_split(\n",
    "    X_train_all, y_train_all, test_size=0.125\n",
    ")"
   ]
  },
  {
   "cell_type": "markdown",
   "metadata": {
    "id": "NHlcmt-SYBKQ"
   },
   "source": [
    "Let's hyperparameter gridsearch over different values of `C`:"
   ]
  },
  {
   "cell_type": "code",
   "execution_count": null,
   "metadata": {
    "id": "F9wZ9l5FX_QY"
   },
   "outputs": [],
   "source": [
    "C_values = [200, 250, 275, 300, 312, 325, 350, 375, 400, 500, 700]\n",
    "\n",
    "\n",
    "def search_hyperparameters(C_values, kernel_type, kernel_value=\"auto\"):\n",
    "    accuracies = []\n",
    "\n",
    "    for c in C_values:\n",
    "        print(f\"Training SVM with C={c}\")\n",
    "        if kernel_type == \"rbf\" or kernel_type == \"sigmoid\" or kernel_type == \"poly\":\n",
    "            clf = SVC(C=c, kernel=kernel_type, gamma=kernel_value)\n",
    "        else:\n",
    "            clf = SVC(C=c, kernel=kernel_type)\n",
    "\n",
    "        # Fit on sub-train set\n",
    "        clf.fit(X_train, y_train)\n",
    "\n",
    "        # Evaluate on val set\n",
    "        acc = clf.score(X_valid, y_valid)\n",
    "        accuracies.append(acc)\n",
    "        print(f\"--> accuracy = {acc}\")\n",
    "    return accuracies"
   ]
  },
  {
   "cell_type": "code",
   "execution_count": null,
   "metadata": {
    "colab": {
     "base_uri": "https://localhost:8080/",
     "height": 663
    },
    "id": "a8md3e7iZN5M",
    "outputId": "03eb71b9-a5d3-4134-96b7-3409f31045f3"
   },
   "outputs": [],
   "source": [
    "# plot the relation between `c` and the accuracy\n",
    "def plot_accuracies(C_values, kernel_type, kernel_values=\"scale\"):\n",
    "    accuracies = search_hyperparameters(C_values, kernel_type, kernel_values)\n",
    "    plt.plot(C_values, accuracies)\n",
    "    plt.title(f\"kernel : {kernel_type}\")\n",
    "\n",
    "\n",
    "plot_accuracies(C_values, \"rbf\", kernel_values=\"scale\")"
   ]
  },
  {
   "cell_type": "code",
   "execution_count": null,
   "metadata": {
    "colab": {
     "base_uri": "https://localhost:8080/"
    },
    "id": "SK7WWSltbJbc",
    "outputId": "4a4ceef8-c00b-4c0c-8d81-1e45218ba139"
   },
   "outputs": [],
   "source": [
    "# Fit on the whole train set, evaluate on the test set\n",
    "\n",
    "clf = SVC(C=35)\n",
    "clf.fit(X_train_all, y_train_all)\n",
    "accuracy = clf.score(X_test, y_test)\n",
    "print(accuracy)"
   ]
  },
  {
   "cell_type": "markdown",
   "metadata": {
    "id": "iCRk9QaGbiuM"
   },
   "source": [
    "Do the same with different kernel values, and different decision functions:"
   ]
  },
  {
   "cell_type": "code",
   "execution_count": null,
   "metadata": {
    "colab": {
     "base_uri": "https://localhost:8080/",
     "height": 455
    },
    "id": "Pwd0BdIhbR5o",
    "outputId": "bd1367db-7414-4467-8653-d1ffe51d464c"
   },
   "outputs": [],
   "source": [
    "plot_accuracies(C_values, \"linear\")"
   ]
  },
  {
   "cell_type": "code",
   "execution_count": null,
   "metadata": {
    "colab": {
     "base_uri": "https://localhost:8080/",
     "height": 663
    },
    "id": "KetnBteOHrc7",
    "outputId": "2053c18b-c664-4736-c558-939ae0c85332"
   },
   "outputs": [],
   "source": [
    "plot_accuracies(C_values, \"poly\")"
   ]
  },
  {
   "cell_type": "code",
   "execution_count": null,
   "metadata": {
    "colab": {
     "base_uri": "https://localhost:8080/",
     "height": 489
    },
    "id": "bpgf0p_3IuB5",
    "outputId": "8556ef00-7697-406e-c78d-ec60f47fbc62"
   },
   "outputs": [],
   "source": [
    "plot_accuracies(C_values, \"sigmoid\")"
   ]
  },
  {
   "cell_type": "code",
   "execution_count": null,
   "metadata": {
    "colab": {
     "base_uri": "https://localhost:8080/",
     "height": 559
    },
    "id": "LKiB6tOU0Woc",
    "outputId": "230fc6e3-059d-48a0-c5c6-75ef931f3fb7"
   },
   "outputs": [],
   "source": [
    "C_values = [0.005, 0.01, 0.03, 0.05]\n",
    "\n",
    "\n",
    "def search_hyperparameters(C_values):\n",
    "    accuracies = []\n",
    "\n",
    "    for c in C_values:\n",
    "        print(f\"Training SVM with C={c}\")\n",
    "        clf = LinearSVC(C=c)\n",
    "\n",
    "        # Fit on sub-train set\n",
    "        clf.fit(X_train, y_train)\n",
    "\n",
    "        # Evaluate on val set\n",
    "        acc = clf.score(X_valid, y_valid)\n",
    "        accuracies.append(acc)\n",
    "        print(f\"--> accuracy = {acc}\")\n",
    "    return accuracies\n",
    "\n",
    "\n",
    "def plot_accuracies(C_values):\n",
    "    accuracies = search_hyperparameters(C_values)\n",
    "    plt.plot(C_values, accuracies)\n",
    "    plt.title(f\"kernel : linear\")\n",
    "\n",
    "\n",
    "plot_accuracies(C_values)"
   ]
  }
 ],
 "metadata": {
  "colab": {
   "collapsed_sections": [],
   "provenance": []
  },
  "kernelspec": {
   "display_name": "Python 3 (ipykernel)",
   "language": "python",
   "name": "python3"
  },
  "language_info": {
   "codemirror_mode": {
    "name": "ipython",
    "version": 3
   },
   "file_extension": ".py",
   "mimetype": "text/x-python",
   "name": "python",
   "nbconvert_exporter": "python",
   "pygments_lexer": "ipython3",
   "version": "3.8.10"
  }
 },
 "nbformat": 4,
 "nbformat_minor": 1
}
